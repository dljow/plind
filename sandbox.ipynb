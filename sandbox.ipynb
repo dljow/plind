{
 "cells": [
  {
   "cell_type": "code",
   "execution_count": 4,
   "metadata": {
    "collapsed": false
   },
   "outputs": [],
   "source": [
    "import numpy as np\n",
    "import quadpy\n",
    "from plind.contour_dict import equilateral_real"
   ]
  },
  {
   "cell_type": "code",
   "execution_count": 82,
   "metadata": {
    "collapsed": false
   },
   "outputs": [],
   "source": [
    "dim = 2\n",
    "scheme = quadpy.nsimplex.grundmann_moeller(dim, 3)\n",
    "\n",
    "simps = np.stack([ \n",
    "        [[0.0, 0.0],\n",
    "        [0.0, 1.0],\n",
    "        [1.0, 0.0]],\n",
    "    \n",
    "        [[1.0, 1.0],\n",
    "        [0.0, 1.0],\n",
    "        [1.0, 0.0]]\n",
    "        ], axis=-2)\n",
    "\n",
    "val = scheme.integrate(\n",
    "    lambda x: x[0]*x[0]+x[1]*x[1],\n",
    "    simps\n",
    "    )"
   ]
  },
  {
   "cell_type": "code",
   "execution_count": 83,
   "metadata": {
    "collapsed": false
   },
   "outputs": [
    {
     "data": {
      "text/plain": [
       "(3, 2, 2)"
      ]
     },
     "execution_count": 83,
     "metadata": {},
     "output_type": "execute_result"
    }
   ],
   "source": [
    "simps.shape"
   ]
  },
  {
   "cell_type": "code",
   "execution_count": 68,
   "metadata": {
    "collapsed": false
   },
   "outputs": [
    {
     "data": {
      "text/plain": [
       "0.6666666666666663"
      ]
     },
     "execution_count": 68,
     "metadata": {},
     "output_type": "execute_result"
    }
   ],
   "source": [
    "sum(val)"
   ]
  },
  {
   "cell_type": "code",
   "execution_count": 69,
   "metadata": {
    "collapsed": false
   },
   "outputs": [],
   "source": [
    "def transform(points, simplex):\n",
    "    \"\"\"Transform the points `xi` from the reference simplex onto `simplex`.\n",
    "    \"\"\"\n",
    "    # For n == 2:\n",
    "    # x = (\n",
    "    #     + outer(triangle[0].T, 1.0 - xi[0] - xi[1])\n",
    "    #     + outer(triangle[1].T, xi[0])\n",
    "    #     + outer(triangle[2].T, xi[1])\n",
    "    #     )\n",
    "    return numpy.dot(simplex, points)"
   ]
  },
  {
   "cell_type": "code",
   "execution_count": 70,
   "metadata": {
    "collapsed": false
   },
   "outputs": [],
   "source": [
    "scheme = quadpy.nsimplex.grundmann_moeller(dim, 3)\n",
    "\n",
    "f = lambda x: x[0]\n",
    "simplex = np.array([[0.0, 0.0],\n",
    "        [0.0, 1.0],\n",
    "        [1.0, 0.0]]) \n",
    "\n",
    "flt = numpy.vectorize(float)\n",
    "simplex = numpy.asarray(simplex)\n",
    "x = transform(flt(scheme.points).T, simplex.T)\n",
    "\n",
    "fx = numpy.asarray(f(x))"
   ]
  },
  {
   "cell_type": "code",
   "execution_count": 71,
   "metadata": {
    "collapsed": false
   },
   "outputs": [
    {
     "data": {
      "text/plain": [
       "array([0.11111111, 0.11111111, 0.33333333, 0.11111111, 0.33333333,\n",
       "       0.55555556, 0.11111111, 0.33333333, 0.55555556, 0.77777778,\n",
       "       0.14285714, 0.14285714, 0.42857143, 0.14285714, 0.42857143,\n",
       "       0.71428571, 0.2       , 0.2       , 0.6       , 0.33333333])"
      ]
     },
     "execution_count": 71,
     "metadata": {},
     "output_type": "execute_result"
    }
   ],
   "source": [
    "x[0]"
   ]
  },
  {
   "cell_type": "code",
   "execution_count": 72,
   "metadata": {
    "collapsed": false
   },
   "outputs": [
    {
     "data": {
      "text/plain": [
       "array([[0.11111111, 0.11111111, 0.33333333, 0.11111111, 0.33333333,\n",
       "        0.55555556, 0.11111111, 0.33333333, 0.55555556, 0.77777778,\n",
       "        0.14285714, 0.14285714, 0.42857143, 0.14285714, 0.42857143,\n",
       "        0.71428571, 0.2       , 0.2       , 0.6       , 0.33333333],\n",
       "       [0.11111111, 0.33333333, 0.11111111, 0.55555556, 0.33333333,\n",
       "        0.11111111, 0.77777778, 0.55555556, 0.33333333, 0.11111111,\n",
       "        0.14285714, 0.42857143, 0.14285714, 0.71428571, 0.42857143,\n",
       "        0.14285714, 0.2       , 0.6       , 0.2       , 0.33333333]])"
      ]
     },
     "execution_count": 72,
     "metadata": {},
     "output_type": "execute_result"
    }
   ],
   "source": [
    "np.dot(simplex.T, flt(scheme.points).T)"
   ]
  },
  {
   "cell_type": "code",
   "execution_count": 73,
   "metadata": {
    "collapsed": false
   },
   "outputs": [
    {
     "data": {
      "text/plain": [
       "array([[0., 0., 1.],\n",
       "       [0., 1., 0.]])"
      ]
     },
     "execution_count": 73,
     "metadata": {},
     "output_type": "execute_result"
    }
   ],
   "source": [
    "simplex.T"
   ]
  },
  {
   "cell_type": "code",
   "execution_count": 86,
   "metadata": {
    "collapsed": false
   },
   "outputs": [],
   "source": [
    "contour = equilateral_real(20, (-0.5,0.5,-0.5,0.5))"
   ]
  },
  {
   "cell_type": "code",
   "execution_count": 87,
   "metadata": {
    "collapsed": false
   },
   "outputs": [
    {
     "data": {
      "text/plain": [
       "array([[  0,   1,  20],\n",
       "       [ 20,  21,   1],\n",
       "       [  1,   2,  21],\n",
       "       ...,\n",
       "       [397, 398, 378],\n",
       "       [378, 379, 398],\n",
       "       [398, 399, 379]])"
      ]
     },
     "execution_count": 87,
     "metadata": {},
     "output_type": "execute_result"
    }
   ],
   "source": [
    "contour.simplices"
   ]
  },
  {
   "cell_type": "code",
   "execution_count": 88,
   "metadata": {
    "collapsed": false
   },
   "outputs": [],
   "source": [
    "simps = contour.points[contour.simplices]"
   ]
  },
  {
   "cell_type": "code",
   "execution_count": 91,
   "metadata": {
    "collapsed": false
   },
   "outputs": [],
   "source": [
    "simps = np.stack(simps, axis=-2)"
   ]
  },
  {
   "cell_type": "code",
   "execution_count": 92,
   "metadata": {
    "collapsed": false
   },
   "outputs": [],
   "source": [
    "val = scheme.integrate(\n",
    "    lambda x: x[0]/x[0],\n",
    "    simps\n",
    "    )"
   ]
  },
  {
   "cell_type": "code",
   "execution_count": 94,
   "metadata": {
    "collapsed": false
   },
   "outputs": [
    {
     "data": {
      "text/plain": [
       "0.9999999999999918"
      ]
     },
     "execution_count": 94,
     "metadata": {},
     "output_type": "execute_result"
    }
   ],
   "source": [
    "sum(val)"
   ]
  },
  {
   "cell_type": "code",
   "execution_count": 95,
   "metadata": {
    "collapsed": false
   },
   "outputs": [
    {
     "data": {
      "text/plain": [
       "2"
      ]
     },
     "execution_count": 95,
     "metadata": {},
     "output_type": "execute_result"
    }
   ],
   "source": [
    "contour.ndim"
   ]
  },
  {
   "cell_type": "markdown",
   "metadata": {
    "collapsed": true
   },
   "source": [
    "# Playing with numba"
   ]
  },
  {
   "cell_type": "code",
   "execution_count": 623,
   "metadata": {
    "collapsed": false
   },
   "outputs": [],
   "source": [
    "from numba import jit\n",
    "\n",
    "@jit(nopython=True)\n",
    "def isin_nb(simplices, edge, invert=False):\n",
    "    isin_arr = [False]\n",
    "    for i in np.arange(simplices.shape[0]):\n",
    "        simp = simplices[i]\n",
    "        for a in simp:\n",
    "            bool_val = False\n",
    "            for e in edge:\n",
    "                if a == e:\n",
    "                    bool_val = True\n",
    "            isin_arr.append(bool_val)\n",
    "\n",
    "    isin_arr = np.array(isin_arr[1:])\n",
    "    isin_arr = isin_arr.reshape(simplices.shape)\n",
    "    if invert:\n",
    "        return np.invert(isin_arr)\n",
    "    else:\n",
    "        return isin_arr\n",
    "\n",
    "def split_edges(points, edges, simplices, ndim, bad_edges, indicies):\n",
    "    used_simps = np.array([], dtype=np.int)\n",
    "    uni_bad_edges = np.array([], dtype=np.int)\n",
    "    uni_bad_simps = np.array([], dtype=np.int)\n",
    "\n",
    "    # The surface becomes inconsistent if two edges within the same simplex are flagged at once.\n",
    "    # To combat this, only the first edge is split, and the second is assumed to be caught\n",
    "    # by the subsequent time step\n",
    "    for i in np.arange(bad_edges.shape[0]):\n",
    "        bad_edge = bad_edges[i]\n",
    "        # Keep track of the simplices associated with an edge\n",
    "        isin_arr = isin_nb(simplices, bad_edge)\n",
    "        simplices_tag = np.array(isin_arr).sum(axis=-1) > 1\n",
    "        # simplices_tag = np.isin(simplices, bad_edge).sum(axis=-1) > 1\n",
    "\n",
    "        simplices_tag = np.where(simplices_tag)[0]\n",
    "\n",
    "        if not np.any(np.in1d(simplices_tag, used_simps)):  # Check if we have used this simplex\n",
    "            # Flag simplices_tag to not reuse simplices\n",
    "            used_simps = np.append(used_simps, simplices_tag)\n",
    "            # Add edge to new bad edge array\n",
    "            uni_bad_edges = np.append(uni_bad_edges, bad_edge)\n",
    "            # Remove bad edges from the list of edges\n",
    "            edges_tag = isin_nb(edges, bad_edge).sum(axis=-1) == 2\n",
    "            edges = edges[~(edges_tag)]\n",
    "\n",
    "            # Add simplice(s) with the proper extras populated\n",
    "            for j in range(ndim):\n",
    "                if np.size(simplices_tag) > j:\n",
    "                    uni_bad_simps = np.append(uni_bad_simps, simplices[simplices_tag[j]], axis=0)\n",
    "\n",
    "    # The only edges this function treats and removes are uni_bad_edges,\n",
    "    # that is, the edges that are unique with respect to their simplices.\n",
    "    uni_bad_simps = uni_bad_simps.reshape(-1, ndim+1)\n",
    "    uni_bad_edges = uni_bad_edges.reshape(-1, 2)\n",
    "\n",
    "    # Add the midpoints of all the bad edges\n",
    "    midpts_ind = np.arange(np.shape(points)[0], np.shape(points)[0]+np.shape(uni_bad_edges)[0], 1, dtype=np.int)\n",
    "    midpts = (points[uni_bad_edges[:, 0]] + points[uni_bad_edges[:, 1]])/2\n",
    "    points = np.append(points, midpts, axis=0)\n",
    "\n",
    "    # Add the two edges that replace all the bad edges\n",
    "    edges_1 = np.sort(np.append(midpts_ind, uni_bad_edges[:, 0], axis=0).reshape(2,-1).T, axis=1)\n",
    "    edges_2 = np.sort(np.append(midpts_ind, uni_bad_edges[:, 1], axis=0).reshape(2,-1).T, axis=1)\n",
    "    edges = np.concatenate((edges, edges_1, edges_2), axis=0)\n",
    "\n",
    "    # Delete all the bad edges\n",
    "    simplices = np.delete(simplices, used_simps, axis=0)\n",
    "\n",
    "    # vertices which are not part of the bad edges in the bad simplices\n",
    "    for i, bad_edge in enumerate(uni_bad_edges):\n",
    "            # Get all points in the simplex not associated to the edge (\"outliers\")\n",
    "\n",
    "\n",
    "            outliers = uni_bad_simps[isin_nb(uni_bad_simps, bad_edge, invert=True) *\n",
    "                        (isin_nb(uni_bad_simps, bad_edge, invert=True).sum(axis=-1)==ndim+1-2)[:, np.newaxis]]\n",
    "            # ndim - 1 outliers will exist in every edge\n",
    "            if ndim == 1:\n",
    "                num_simps = 1\n",
    "            else:\n",
    "                num_simps = int(np.size(outliers)/(ndim-1))\n",
    "            num_outliers=np.size(outliers)\n",
    "            outliers=np.reshape(outliers,[num_outliers,1])\n",
    "\n",
    "            # add new edge for every outlier\n",
    "            edges_outliers = np.sort(np.append(outliers, midpts_ind[i]*np.ones([num_outliers, 1], dtype=np.int),axis=1), axis=0)\n",
    "            edges_outliers = edges_outliers.astype(np.int)\n",
    "            edges = np.append(edges, edges_outliers, axis=0)\n",
    "            outliers = np.reshape(outliers, [num_simps, ndim-1])\n",
    "\n",
    "            # Simplices per outlier row\n",
    "            simp_1 = np.sort(np.concatenate(( midpts_ind[i]*np.ones([num_simps, 1], dtype=np.int),outliers,bad_edge[0]*np.ones([num_simps, 1], dtype=np.int)),axis=1), axis=1)\n",
    "            simp_2 = np.sort(np.concatenate(( midpts_ind[i]*np.ones([num_simps, 1], dtype=np.int),outliers,bad_edge[1]*np.ones([num_simps, 1], dtype=np.int)),axis=1), axis=1)\n",
    "\n",
    "            simplices = np.concatenate((simplices, simp_1, simp_2), axis=0)\n",
    "    return points, edges, simplices\n",
    "\n",
    "@jit(nopython=True)\n",
    "def sum_nb(isin_arr):\n",
    "    summed = np.zeros(isin_arr.shape[0], dtype=np.int64)\n",
    "    for i in np.arange(0, isin_arr.shape[1]):\n",
    "        summed[i] = np.sum(isin_arr[i])\n",
    "    return summed\n",
    "\n",
    "@jit(nopython=True)\n",
    "def in1d_nb(arr0, arr1):\n",
    "    out_arr = np.zeros(len(arr0), np.bool_)\n",
    "    for i in np.arange(0, len(arr0)):\n",
    "        for j in np.arange(0, len(arr1)):\n",
    "            if arr0[i] == arr1[j]:\n",
    "                out_arr[i] = True\n",
    "    return out_arr\n",
    "\n",
    "@jit(nopython=True)\n",
    "def delete_row_nb(arr, num):\n",
    "    mask = np.zeros(arr.shape[0], dtype=np.int64) == 0\n",
    "    mask[num] = False\n",
    "    return arr[mask]\n",
    "\n",
    "@jit(nopython=True)\n",
    "def rowarr_transpose_nb(rowarr):\n",
    "    colarr = np.zeros((len(rowarr), 1), rowarr.dtype)\n",
    "    for i in np.arange(0, len(rowarr)):\n",
    "        colarr[i, 0] = rowarr[i]\n",
    "    return colarr\n",
    "\n",
    "@jit(nopython=True)\n",
    "def bool_index_nb(arr, bool_arr):\n",
    "    out = np.zeros(np.sum(bool_arr.flatten()), arr.dtype)\n",
    "    j = 0\n",
    "    for i in np.arange(0, bool_arr.size):\n",
    "        if bool_arr.flatten()[i]:\n",
    "            out[j] = arr.flatten()[i]\n",
    "            j += 1\n",
    "    return out\n",
    "    \n",
    "@jit(nopython=True)\n",
    "def split_edges_nb(points, edges, simplices, ndim, bad_edges, indicies):\n",
    "    used_simps = np.zeros(1, np.int64) - 1\n",
    "    uni_bad_edges = np.zeros((1,2), np.int64) \n",
    "    uni_bad_simps = np.zeros((1,ndim+1), np.int64)\n",
    "\n",
    "    # The surface becomes inconsistent if two edges within the same simplex are flagged at once.\n",
    "    # To combat this, only the first edge is split, and the second is assumed to be caught\n",
    "    # by the subsequent time step\n",
    "    for i in np.arange(bad_edges.shape[0]):\n",
    "        bad_edge = bad_edges[i]\n",
    "        # Keep track of the simplices associated with an edge\n",
    "        simplices_tag = np.where(sum_nb(isin_nb(simplices, bad_edge))>1)[0]\n",
    "\n",
    "        if not np.any(in1d_nb(simplices_tag, used_simps)):  # Check if we have used this simplex\n",
    "            # Flag simplices_tag to not reuse simplices\n",
    "            if i == 0:\n",
    "                used_simps = simplices_tag\n",
    "            else:\n",
    "                used_simps = np.concatenate((used_simps, simplices_tag))\n",
    "            # Add edge to new bad edge array\n",
    "            if i == 0:\n",
    "                uni_bad_edges[0] = bad_edge\n",
    "            else:\n",
    "                uni_bad_edges = np.concatenate((uni_bad_edges.ravel(), bad_edge)).reshape((uni_bad_edges.shape[0]+1,2))\n",
    "            # Remove bad edges from the list of edges\n",
    "            edges_tag = sum_nb(isin_nb(edges, bad_edge)) == 2\n",
    "            edges = edges[~(edges_tag)]\n",
    "\n",
    "            # Add simplice(s) with the proper extras populated\n",
    "            for j in range(ndim):\n",
    "                if simplices_tag.size > j:\n",
    "                    uni_bad_simps = np.concatenate((uni_bad_simps.ravel(), simplices[simplices_tag[j]])).reshape((uni_bad_simps.shape[0]+1, uni_bad_simps.shape[1]))\n",
    "\n",
    "    # The only edges this function treats and removes are uni_bad_edges,\n",
    "    # that is, the edges that are unique with respect to their simplices.\n",
    "    uni_bad_simps = uni_bad_simps.reshape(-1, ndim+1)\n",
    "    uni_bad_edges = uni_bad_edges.reshape(-1, 2)\n",
    "\n",
    "    # Add the midpoints of all the bad edges\n",
    "    midpts_ind = np.arange(points.shape[0], points.shape[0] + uni_bad_edges.shape[0], 1)\n",
    "    midpts = (points[uni_bad_edges[:, 0]] + points[uni_bad_edges[:, 1]])/2\n",
    "    points = np.concatenate((points.ravel(), midpts.ravel())).reshape(len(points)+len(midpts),ndim)\n",
    "\n",
    "#     # Add the two edges that replace all the bad edges\n",
    "    edges_1 = np.concatenate((midpts_ind, uni_bad_edges[:, 0])).reshape(2,-1).T\n",
    "    edges_2 = np.concatenate((midpts_ind, uni_bad_edges[:, 1])).reshape(2,-1).T\n",
    "    edges = np.concatenate((edges, edges_1, edges_2), axis=0)\n",
    "\n",
    "#     # Delete all the bad edges\n",
    "    for ind in used_simps:\n",
    "        simplices = delete_row_nb(simplices, ind)\n",
    "     \n",
    "    \n",
    "    # vertices which are not part of the bad edges in the bad simplices\n",
    "    for i in np.arange(0, len(uni_bad_edges)):\n",
    "        # Get all points in the simplex not associated to the edge (\"outliers\")\n",
    "        bad_edge = uni_bad_edges[i]\n",
    "\n",
    "        outliers = bool_index_nb(uni_bad_simps, isin_nb(uni_bad_simps, bad_edge, invert=True) * \n",
    "        rowarr_transpose_nb(sum_nb(isin_nb(uni_bad_simps, bad_edge, invert=True))==ndim+1-2))\n",
    "\n",
    "        # ndim - 1 outliers will exist in every edge\n",
    "        num_outliers = outliers.size\n",
    "        if ndim == 1:\n",
    "            num_simps = 1\n",
    "        else:\n",
    "            num_simps = int(num_outliers/(ndim-1))\n",
    "        outliers_T = outliers.reshape(num_outliers,1)\n",
    "\n",
    "        # add new edge for every outlier\n",
    "        edges_outliers = np.concatenate((outliers_T, midpts_ind[i]*np.ones((num_outliers, 1), dtype=np.int64)), axis=1)\n",
    "        edges = np.concatenate((edges, edges_outliers), axis=0)\n",
    "        outliers_S = outliers_T.reshape(num_simps, ndim-1)\n",
    "\n",
    "        # Simplices per outlier row\n",
    "        simp_1 = np.concatenate(( midpts_ind[i]*np.ones((num_simps, 1), dtype=np.int64), outliers_S, bad_edge[0]*np.ones((num_simps, 1), dtype=np.int64)),axis=1)\n",
    "        simp_2 = np.concatenate(( midpts_ind[i]*np.ones((num_simps, 1), dtype=np.int64),outliers_S, bad_edge[1]*np.ones((num_simps, 1), dtype=np.int64)),axis=1)\n",
    "\n",
    "        simplices = np.concatenate((simplices, simp_1, simp_2), axis=0)\n",
    "    return points, edges, simplices"
   ]
  },
  {
   "cell_type": "code",
   "execution_count": 624,
   "metadata": {
    "collapsed": false
   },
   "outputs": [],
   "source": [
    "points = np.array([[0.,0.],[0.,1.],[1.,1.],[1.,0.]])\n",
    "edges = np.array([[0,1],[1,2],[2,3],[3,0],[0,2]])\n",
    "simplices = np.array([[0,1,2],[2,3,0]])\n",
    "ndim = 2\n",
    "bad_edges = np.array([[0,2]])\n",
    "indices = np.array([4])\n",
    "\n",
    "points0, edges0, simplices0 = split_edges_nb(points, edges, simplices, ndim, bad_edges, indices)"
   ]
  },
  {
   "cell_type": "code",
   "execution_count": 610,
   "metadata": {
    "collapsed": false
   },
   "outputs": [],
   "source": [
    "points = np.array([[0.,0.],[0.,1.],[1.,1.],[1.,0.]])\n",
    "edges = np.array([[0,1],[1,2],[2,3],[3,0],[0,2]])\n",
    "simplices = np.array([[0,1,2],[2,3,0]])\n",
    "ndim = 2\n",
    "bad_edges = np.array([[0,2]])\n",
    "indices = np.array([4])\n",
    "\n",
    "points1, edges1, simplices1 = split_edges(points, edges, simplices, ndim, bad_edges, indices)"
   ]
  },
  {
   "cell_type": "code",
   "execution_count": 630,
   "metadata": {
    "collapsed": false
   },
   "outputs": [
    {
     "data": {
      "text/plain": [
       "array([[2, 3, 0],\n",
       "       [4, 1, 0],\n",
       "       [4, 3, 0],\n",
       "       [4, 1, 2],\n",
       "       [4, 3, 2]])"
      ]
     },
     "execution_count": 630,
     "metadata": {},
     "output_type": "execute_result"
    }
   ],
   "source": [
    "simplices0"
   ]
  },
  {
   "cell_type": "code",
   "execution_count": 629,
   "metadata": {
    "collapsed": false
   },
   "outputs": [
    {
     "data": {
      "text/plain": [
       "array([[0, 1, 4],\n",
       "       [0, 3, 4],\n",
       "       [1, 2, 4],\n",
       "       [2, 3, 4]])"
      ]
     },
     "execution_count": 629,
     "metadata": {},
     "output_type": "execute_result"
    }
   ],
   "source": [
    "simplices1"
   ]
  },
  {
   "cell_type": "code",
   "execution_count": 444,
   "metadata": {
    "collapsed": false
   },
   "outputs": [],
   "source": [
    "used_simps = np.zeros(1, np.int64) - 1\n",
    "uni_bad_edges = np.zeros((1,2), np.int64) - 1\n",
    "uni_bad_simps = np.zeros((1,ndim+1), np.int64) - 1\n",
    "\n",
    "# The surface becomes inconsistent if two edges within the same simplex are flagged at once.\n",
    "# To combat this, only the first edge is split, and the second is assumed to be caught\n",
    "# by the subsequent time step\n",
    "for i in np.arange(bad_edges.shape[0]):\n",
    "    bad_edge = bad_edges[i]\n",
    "    # Keep track of the simplices associated with an edge\n",
    "    simplices_tag = np.where(sum_nb(isin_nb(simplices, bad_edge))>1)[0]\n",
    "\n",
    "\n",
    "    if not np.any(in1d_nb(simplices_tag, used_simps)):  # Check if we have used this simplex\n",
    "        # Flag simplices_tag to not reuse simplices\n",
    "        used_simps = np.concatenate((used_simps, simplices_tag))\n",
    "        # Add edge to new bad edge array\n",
    "        uni_bad_edges = np.concatenate((uni_bad_edges.ravel(), bad_edge)).reshape((uni_bad_edges.shape[0]+1,2))\n",
    "        # Remove bad edges from the list of edges\n",
    "        edges_tag = sum_nb(isin_nb(edges, bad_edge)) == 2\n",
    "        edges = edges[~(edges_tag)]\n",
    "\n",
    "        # Add simplice(s) with the proper extras populated\n",
    "        for j in range(ndim):\n",
    "            if simplices_tag.size > j:\n",
    "                uni_bad_simps = np.concatenate((uni_bad_simps.ravel(), simplices[simplices_tag[j]])).reshape((uni_bad_simps.shape[0]+1, uni_bad_simps.shape[1]))\n",
    "\n",
    "# The only edges this function treats and removes are uni_bad_edges,\n",
    "# that is, the edges that are unique with respect to their simplices.\n",
    "uni_bad_simps = uni_bad_simps.reshape(-1, ndim+1)\n",
    "uni_bad_edges = uni_bad_edges.reshape(-1, 2)\n",
    "\n",
    "# Add the midpoints of all the bad edges\n",
    "midpts_ind = np.arange(points.shape[0], points.shape[0] + uni_bad_edges.shape[0], 1)\n",
    "midpts = (points[uni_bad_edges[:, 0]] + points[uni_bad_edges[:, 1]])/2\n",
    "points = np.concatenate((points.ravel(), midpts.ravel())).reshape(len(points)+len(midpts),ndim)\n",
    "\n",
    "#     # Add the two edges that replace all the bad edges\n",
    "edges_1 = np.concatenate((midpts_ind, uni_bad_edges[:, 0])).reshape(2,-1).T\n",
    "edges_2 = np.concatenate((midpts_ind, uni_bad_edges[:, 1])).reshape(2,-1).T\n",
    "edges = np.concatenate((edges, edges_1, edges_2), axis=0)\n",
    "\n",
    "#     # Delete all the bad edges\n",
    "for ind in used_simps:\n",
    "    simplices = delete_row_nb(simplices, ind)\n",
    "\n",
    "\n",
    "# vertices which are not part of the bad edges in the bad simplices\n",
    "for i in np.arange(0, len(uni_bad_edges)):\n",
    "    # Get all points in the simplex not associated to the edge (\"outliers\")\n",
    "    bad_edge = uni_bad_edges[i]\n",
    "\n",
    "    outliers = bool_index_nb(uni_bad_simps, isin_nb(uni_bad_simps, bad_edge, invert=True) * \n",
    "        rowarr_transpose_nb(sum_nb(isin_nb(uni_bad_simps, bad_edge, invert=True))==ndim+1-2))\n",
    "    \n",
    "    num_outliers = outliers.size\n",
    "    if ndim == 1:\n",
    "        num_simps = 1\n",
    "    else:\n",
    "        num_simps = int(num_outliers/(ndim-1))\n",
    "    outliers_T =np.reshape(outliers,[num_outliers,1])\n",
    "    \n",
    "    edges_outliers = np.sort(np.append(outliers_T, midpts_ind[i]*np.ones([num_outliers, 1], dtype=np.int64),axis=1), axis=0)"
   ]
  },
  {
   "cell_type": "code",
   "execution_count": 449,
   "metadata": {
    "collapsed": false
   },
   "outputs": [
    {
     "data": {
      "text/plain": [
       "array([[1, 5],\n",
       "       [3, 5]])"
      ]
     },
     "execution_count": 449,
     "metadata": {},
     "output_type": "execute_result"
    }
   ],
   "source": [
    "np.append(outliers_T, midpts_ind[i]*np.ones([num_outliers, 1], dtype=np.int64),axis=1)"
   ]
  },
  {
   "cell_type": "code",
   "execution_count": 455,
   "metadata": {
    "collapsed": false
   },
   "outputs": [
    {
     "data": {
      "text/plain": [
       "array([[1, 5],\n",
       "       [3, 5]])"
      ]
     },
     "execution_count": 455,
     "metadata": {},
     "output_type": "execute_result"
    }
   ],
   "source": [
    "np.concatenate((outliers_T, midpts_ind[i]*np.ones([num_outliers, 1], dtype=np.int64)), axis=1)"
   ]
  },
  {
   "cell_type": "code",
   "execution_count": 452,
   "metadata": {
    "collapsed": false
   },
   "outputs": [
    {
     "data": {
      "text/plain": [
       "array([[5],\n",
       "       [5]])"
      ]
     },
     "execution_count": 452,
     "metadata": {},
     "output_type": "execute_result"
    }
   ],
   "source": [
    "np.concatenate((outliers, ))"
   ]
  },
  {
   "cell_type": "code",
   "execution_count": 454,
   "metadata": {
    "collapsed": false
   },
   "outputs": [
    {
     "data": {
      "text/plain": [
       "array([5, 5])"
      ]
     },
     "execution_count": 454,
     "metadata": {},
     "output_type": "execute_result"
    }
   ],
   "source": [
    "midpts_ind[i]*np.ones(num_outliers, dtype=np.int64)"
   ]
  },
  {
   "cell_type": "code",
   "execution_count": 615,
   "metadata": {
    "collapsed": true
   },
   "outputs": [],
   "source": [
    "@jit(nopython=True)\n",
    "def empty():\n",
    "    a = np.empty(1, np.int64)\n",
    "    return np.concatenate((a,np.array([5])))"
   ]
  },
  {
   "cell_type": "code",
   "execution_count": 616,
   "metadata": {
    "collapsed": false
   },
   "outputs": [
    {
     "data": {
      "text/plain": [
       "array([-3761688987579986997,                    5])"
      ]
     },
     "execution_count": 616,
     "metadata": {},
     "output_type": "execute_result"
    }
   ],
   "source": [
    "empty()"
   ]
  },
  {
   "cell_type": "code",
   "execution_count": null,
   "metadata": {
    "collapsed": true
   },
   "outputs": [],
   "source": []
  }
 ],
 "metadata": {
  "kernelspec": {
   "display_name": "Python 3",
   "language": "python",
   "name": "python3"
  },
  "language_info": {
   "codemirror_mode": {
    "name": "ipython",
    "version": 3
   },
   "file_extension": ".py",
   "mimetype": "text/x-python",
   "name": "python",
   "nbconvert_exporter": "python",
   "pygments_lexer": "ipython3",
   "version": "3.6.0"
  }
 },
 "nbformat": 4,
 "nbformat_minor": 2
}
