{
 "cells": [
  {
   "cell_type": "code",
   "execution_count": 39,
   "metadata": {
    "collapsed": false
   },
   "outputs": [],
   "source": [
    "import numpy as np\n",
    "import quadpy\n",
    "from plind.contour_dict import equilateral_real\n",
    "from time import time"
   ]
  },
  {
   "cell_type": "markdown",
   "metadata": {
    "collapsed": true
   },
   "source": [
    "# Playing with numba"
   ]
  },
  {
   "cell_type": "code",
   "execution_count": 17,
   "metadata": {
    "collapsed": false
   },
   "outputs": [],
   "source": [
    "from numba import jit\n",
    "\n",
    "@jit(nopython=True)\n",
    "def isin_nb(simplices, edge, invert=False):\n",
    "    isin_arr = [False]\n",
    "    for i in np.arange(simplices.shape[0]):\n",
    "        simp = simplices[i]\n",
    "        for a in simp:\n",
    "            bool_val = False\n",
    "            for e in edge:\n",
    "                if a == e:\n",
    "                    bool_val = True\n",
    "            isin_arr.append(bool_val)\n",
    "\n",
    "    isin_arr = np.array(isin_arr[1:])\n",
    "    isin_arr = isin_arr.reshape(simplices.shape)\n",
    "    if invert:\n",
    "        return np.invert(isin_arr)\n",
    "    else:\n",
    "        return isin_arr\n",
    "\n",
    "def split_edges(points, edges, simplices, ndim, bad_edges, indicies):\n",
    "    used_simps = np.array([], dtype=np.int)\n",
    "    uni_bad_edges = np.array([], dtype=np.int)\n",
    "    uni_bad_simps = np.empty((0, ndim+1), int)\n",
    "\n",
    "    # The surface becomes inconsistent if two edges within the same simplex are flagged at once.\n",
    "    # To combat this, only the first edge is split, and the second is assumed to be caught\n",
    "    # by the subsequent time step\n",
    "    for i, bad_edge in enumerate(bad_edges):\n",
    "        # Keep track of the simplices associated with an edge\n",
    "        simplices_tag = np.isin(simplices, bad_edge).sum(axis=-1) > 1\n",
    "        simplices_tag = np.where(simplices_tag)[0]\n",
    "\n",
    "        if not np.any(np.in1d(simplices_tag, used_simps)):  # Check if we have used this simplex\n",
    "            # Flag simplices_tag to not reuse simplices\n",
    "            used_simps = np.append(used_simps, simplices_tag)\n",
    "            # Add edge to new bad edge array\n",
    "            uni_bad_edges = np.append(uni_bad_edges, bad_edge)\n",
    "            # Remove bad edges from the list of edges\n",
    "            edges_tag = np.isin(edges, bad_edge).sum(axis=-1) == 2\n",
    "            edges = edges[~(edges_tag)]\n",
    "\n",
    "            # Add simplice(s) with the proper extras populated\n",
    "            uni_bad_simps = np.append(uni_bad_simps, simplices[simplices_tag], axis=0)\n",
    "\n",
    "    # The only edges this function treats and removes are uni_bad_edges,\n",
    "    # that is, the edges that are unique with respect to their simplices.\n",
    "    uni_bad_simps = uni_bad_simps.reshape(-1, ndim+1)\n",
    "    uni_bad_edges = uni_bad_edges.reshape(-1, 2)\n",
    "\n",
    "    # Add the midpoints of all the bad edges\n",
    "    midpts_ind = np.arange(np.shape(points)[0], np.shape(points)[0]+np.shape(uni_bad_edges)[0], 1, dtype=np.int)\n",
    "    midpts = (points[uni_bad_edges[:, 0]] + points[uni_bad_edges[:, 1]])/2\n",
    "    points = np.append(points, midpts, axis=0)\n",
    "\n",
    "    # Add the two edges that replace all the bad edges\n",
    "    edges_1 = np.sort(np.append(midpts_ind, uni_bad_edges[:, 0], axis=0).reshape(2,-1).T, axis=1)\n",
    "    edges_2 = np.sort(np.append(midpts_ind, uni_bad_edges[:, 1], axis=0).reshape(2,-1).T, axis=1)\n",
    "    edges = np.concatenate((edges, edges_1, edges_2), axis=0)\n",
    "\n",
    "    # Delete all the bad edges\n",
    "    simplices = np.delete(simplices, used_simps, axis=0)\n",
    "\n",
    "    # vertices which are not part of the bad edges in the bad simplices\n",
    "    for i, bad_edge in enumerate(uni_bad_edges):\n",
    "            # Get all points in the simplex not associated to the edge (\"outliers\")\n",
    "            outliers = uni_bad_simps[np.isin(uni_bad_simps, bad_edge, invert=True) *\n",
    "                        (np.isin(uni_bad_simps, bad_edge, invert=True).sum(axis=-1)==ndim+1-2)[:, np.newaxis]]\n",
    "            uni_outliers = np.unique(outliers)\n",
    "\n",
    "            # ndim - 1 outliers will exist in every edge\n",
    "            if ndim == 1:\n",
    "                num_simps = 1\n",
    "            else:\n",
    "                num_simps = int(np.size(outliers)/(ndim-1))\n",
    "            num_outliers = np.size(uni_outliers)\n",
    "\n",
    "            outliers = np.reshape(outliers, [num_simps, ndim-1])\n",
    "            uni_outliers = np.reshape(uni_outliers, [num_outliers, 1])\n",
    "\n",
    "            # add new edge for every outlier\n",
    "            edges_outliers = np.sort(np.append(uni_outliers, midpts_ind[i]*np.ones([num_outliers, 1], dtype=np.int),axis=1), axis=0)\n",
    "            edges_outliers = edges_outliers.astype(np.int)\n",
    "            edges = np.append(edges, edges_outliers, axis=0)\n",
    "\n",
    "            # Simplices per outlier row\n",
    "            simp_1 = np.sort(np.concatenate(( midpts_ind[i]*np.ones([num_simps, 1], dtype=np.int),outliers,bad_edge[0]*np.ones([num_simps, 1], dtype=np.int)),axis=1), axis=1)\n",
    "            simp_2 = np.sort(np.concatenate(( midpts_ind[i]*np.ones([num_simps, 1], dtype=np.int),outliers,bad_edge[1]*np.ones([num_simps, 1], dtype=np.int)),axis=1), axis=1)\n",
    "\n",
    "            simplices = np.concatenate((simplices, simp_1, simp_2), axis=0)\n",
    "    return points, edges, simplices\n",
    "\n",
    "@jit(nopython=True)\n",
    "def sum_nb(isin_arr):\n",
    "    summed = np.zeros(isin_arr.shape[0], dtype=np.int64)\n",
    "    for i in np.arange(0, isin_arr.shape[0]):\n",
    "        summed[i] = np.sum(isin_arr[i])\n",
    "    return summed\n",
    "\n",
    "@jit(nopython=True)\n",
    "def in1d_nb(arr0, arr1):\n",
    "    out_arr = np.zeros(len(arr0), np.bool_)\n",
    "    for i in np.arange(0, len(arr0)):\n",
    "        for j in np.arange(0, len(arr1)):\n",
    "            if arr0[i] == arr1[j]:\n",
    "                out_arr[i] = True\n",
    "    return out_arr\n",
    "\n",
    "@jit(nopython=True)\n",
    "def delete_row_nb(arr, num):\n",
    "    mask = np.zeros(arr.shape[0], dtype=np.int64) == 0\n",
    "    mask[num] = False\n",
    "    return arr[mask]\n",
    "\n",
    "@jit(nopython=True)\n",
    "def rowarr_transpose_nb(rowarr):\n",
    "    colarr = np.zeros((len(rowarr), 1), rowarr.dtype)\n",
    "    for i in np.arange(0, len(rowarr)):\n",
    "        colarr[i, 0] = rowarr[i]\n",
    "    return colarr\n",
    "\n",
    "@jit(nopython=True)\n",
    "def bool_index_nb(arr, bool_arr):\n",
    "    out = np.zeros(np.sum(bool_arr.flatten()), arr.dtype)\n",
    "    j = 0\n",
    "    for i in np.arange(0, bool_arr.size):\n",
    "        if bool_arr.flatten()[i]:\n",
    "            out[j] = arr.flatten()[i]\n",
    "            j += 1\n",
    "    return out\n",
    "    \n",
    "@jit(nopython=True)\n",
    "def split_edges_nb(points, edges, simplices, ndim, bad_edges, indicies):\n",
    "    used_simps = np.zeros(1, np.int64) - 1\n",
    "    uni_bad_edges = np.zeros((1,2), np.int64) \n",
    "    uni_bad_simps = np.zeros((1,ndim+1), np.int64)\n",
    "\n",
    "    # The surface becomes inconsistent if two edges within the same simplex are flagged at once.\n",
    "    # To combat this, only the first edge is split, and the second is assumed to be caught\n",
    "    # by the subsequent time step\n",
    "    for i in np.arange(bad_edges.shape[0]):\n",
    "        bad_edge = bad_edges[i]\n",
    "        # Keep track of the simplices associated with an edge\n",
    "        simplices_tag = np.where(sum_nb(isin_nb(simplices, bad_edge))>1)[0]\n",
    "\n",
    "        if not np.any(in1d_nb(simplices_tag, used_simps)):  # Check if we have used this simplex\n",
    "            # Flag simplices_tag to not reuse simplices\n",
    "            if i == 0:\n",
    "                used_simps = simplices_tag\n",
    "            else:\n",
    "                used_simps = np.concatenate((used_simps, simplices_tag))\n",
    "            # Add edge to new bad edge array\n",
    "            if i == 0:\n",
    "                uni_bad_edges[0] = bad_edge\n",
    "            else:\n",
    "                uni_bad_edges = np.concatenate((uni_bad_edges.ravel(), bad_edge)).reshape((uni_bad_edges.shape[0]+1,2))\n",
    "            # Remove bad edges from the list of edges\n",
    "            edges_tag = sum_nb(isin_nb(edges, bad_edge)) == 2\n",
    "            edges = edges[~(edges_tag)]\n",
    "\n",
    "            # Add simplice(s) with the proper extras populated\n",
    "            if i == 0:\n",
    "                uni_bad_simps[0] = simplices[simplices_tag[0]]\n",
    "                for j in np.arange(1, len(simplices_tag)):\n",
    "                       uni_bad_simps = np.concatenate((uni_bad_simps.ravel(), simplices[simplices_tag[j]])).reshape((uni_bad_simps.shape[0]+1, uni_bad_simps.shape[1]))\n",
    "            else:\n",
    "                for tag in simplices_tag:\n",
    "                    uni_bad_simps = np.concatenate((uni_bad_simps.ravel(), simplices[tag])).reshape((uni_bad_simps.shape[0]+1, uni_bad_simps.shape[1]))\n",
    "\n",
    "    # The only edges this function treats and removes are uni_bad_edges,\n",
    "    # that is, the edges that are unique with respect to their simplices.\n",
    "    uni_bad_simps = uni_bad_simps.reshape(-1, ndim+1)\n",
    "    uni_bad_edges = uni_bad_edges.reshape(-1, 2)\n",
    "\n",
    "    # Add the midpoints of all the bad edges\n",
    "    midpts_ind = np.arange(points.shape[0], points.shape[0] + uni_bad_edges.shape[0], 1)\n",
    "    midpts = (points[uni_bad_edges[:, 0]] + points[uni_bad_edges[:, 1]])/2\n",
    "    points = np.concatenate((points.ravel(), midpts.ravel())).reshape(len(points)+len(midpts),ndim)\n",
    "\n",
    "    # Add the two edges that replace all the bad edges\n",
    "    edges_1 = np.concatenate((midpts_ind, uni_bad_edges[:, 0])).reshape(2,-1).T\n",
    "    edges_2 = np.concatenate((midpts_ind, uni_bad_edges[:, 1])).reshape(2,-1).T\n",
    "    edges = np.concatenate((edges, edges_1, edges_2), axis=0)\n",
    "\n",
    "    # Delete all the bad edges\n",
    "    simplices = delete_row_nb(simplices, used_simps)\n",
    "     \n",
    "    \n",
    "    # vertices which are not part of the bad edges in the bad simplices\n",
    "    for i in np.arange(0, len(uni_bad_edges)):\n",
    "        # Get all points in the simplex not associated to the edge (\"outliers\")\n",
    "        bad_edge = uni_bad_edges[i]\n",
    "\n",
    "        outliers = bool_index_nb(uni_bad_simps, isin_nb(uni_bad_simps, bad_edge, invert=True) * \n",
    "                    rowarr_transpose_nb(sum_nb(isin_nb(uni_bad_simps, bad_edge, invert=True))==ndim+1-2))\n",
    "        uni_outliers = np.unique(outliers)\n",
    "\n",
    "        # ndim - 1 outliers will exist in every edge\n",
    "        if ndim == 1:\n",
    "            num_simps = 1\n",
    "        else:\n",
    "            num_simps = int(outliers.size/(ndim-1))\n",
    "        num_outliers = uni_outliers.size\n",
    "        \n",
    "        outliers_T = outliers.reshape(num_simps, ndim-1)\n",
    "        uni_outliers_T = uni_outliers.reshape(num_outliers, 1)\n",
    "\n",
    "        # add new edge for every outlier\n",
    "        edges_outliers = np.concatenate((uni_outliers_T, midpts_ind[i]*np.ones((num_outliers, 1), dtype=np.int64)), axis=1)\n",
    "        edges = np.concatenate((edges, edges_outliers), axis=0)\n",
    "        outliers_S = outliers_T.reshape(num_simps, ndim-1)\n",
    "\n",
    "        # Simplices per outlier row\n",
    "        simp_1 = np.concatenate(( midpts_ind[i]*np.ones((num_simps, 1), dtype=np.int64), outliers_T, bad_edge[0]*np.ones((num_simps, 1), dtype=np.int64)),axis=1)\n",
    "        simp_2 = np.concatenate(( midpts_ind[i]*np.ones((num_simps, 1), dtype=np.int64), outliers_T, bad_edge[1]*np.ones((num_simps, 1), dtype=np.int64)),axis=1)\n",
    "\n",
    "        simplices = np.concatenate((simplices, simp_1, simp_2), axis=0)\n",
    "    return points, edges, simplices\n",
    "\n",
    "def foo():\n",
    "    outliers = uni_bad_simps[np.isin(uni_bad_simps, bad_edge, invert=True) *\n",
    "                            (np.isin(uni_bad_simps, bad_edge, invert=True).sum(axis=-1)==ndim+1-2)[:, np.newaxis]]\n",
    "    uni_outliers = np.unique(outliers)\n",
    "\n",
    "    # ndim - 1 outliers will exist in every edge\n",
    "    if ndim == 1:\n",
    "        num_simps = 1\n",
    "    else:\n",
    "        num_simps = int(np.size(outliers)/(ndim-1))\n",
    "    num_outliers = np.size(uni_outliers)\n",
    "\n",
    "    outliers = np.reshape(outliers, [num_simps, ndim-1])\n",
    "    uni_outliers = np.reshape(uni_outliers, [num_outliers, 1])\n",
    "\n",
    "    # add new edge for every outlier\n",
    "    edges_outliers = np.sort(np.append(uni_outliers, midpts_ind[i]*np.ones([num_outliers, 1], dtype=np.int),axis=1), axis=0)\n",
    "    edges_outliers = edges_outliers.astype(np.int)\n",
    "    edges = np.append(edges, edges_outliers, axis=0)\n",
    "\n",
    "    # Simplices per outlier row\n",
    "    simp_1 = np.sort(np.concatenate(( midpts_ind[i]*np.ones([num_simps, 1], dtype=np.int),outliers,bad_edge[0]*np.ones([num_simps, 1], dtype=np.int)),axis=1), axis=1)\n",
    "    simp_2 = np.sort(np.concatenate(( midpts_ind[i]*np.ones([num_simps, 1], dtype=np.int),outliers,bad_edge[1]*np.ones([num_simps, 1], dtype=np.int)),axis=1), axis=1)\n",
    "\n",
    "    simplices = np.concatenate((simplices, simp_1, simp_2), axis=0)"
   ]
  },
  {
   "cell_type": "code",
   "execution_count": 47,
   "metadata": {
    "collapsed": false
   },
   "outputs": [
    {
     "name": "stdout",
     "output_type": "stream",
     "text": [
      "0.518902063369751\n"
     ]
    }
   ],
   "source": [
    "points = np.array([[0.,0.],[0.,1.],[1.,1.],[1.,0.]])\n",
    "edges = np.array([[0,1],[1,2],[2,3],[3,0],[0,2]])\n",
    "simplices = np.array([[0,1,2],[2,3,0]])\n",
    "ndim = 2\n",
    "bad_edges = np.array([[0,1],[0,2],[0,3]])\n",
    "indices = np.array([0,4,3])\n",
    "\n",
    "t0 = time()\n",
    "for i in np.arange(10000):\n",
    "    points0, edges0, simplices0 = split_edges_nb(points, edges, simplices, ndim, bad_edges, indices)\n",
    "t1 = time()\n",
    "print(t1-t0)"
   ]
  },
  {
   "cell_type": "code",
   "execution_count": 46,
   "metadata": {
    "collapsed": false
   },
   "outputs": [
    {
     "name": "stdout",
     "output_type": "stream",
     "text": [
      "8.449191093444824\n"
     ]
    }
   ],
   "source": [
    "points = np.array([[0.,0.],[0.,1.],[1.,1.],[1.,0.]])\n",
    "edges = np.array([[0,1],[1,2],[2,3],[3,0],[0,2]])\n",
    "simplices = np.array([[0,1,2],[2,3,0]])\n",
    "ndim = 2\n",
    "bad_edges = np.array([[0,1],[0,2],[0,3]])\n",
    "indices = np.array([0,4,3])\n",
    "\n",
    "t0 = time()\n",
    "for i in np.arange(10000):\n",
    "    points1, edges1, simplices1 = split_edges(points, edges, simplices, ndim, bad_edges, indices)\n",
    "t1 = time()\n",
    "print(t1-t0)"
   ]
  },
  {
   "cell_type": "code",
   "execution_count": 38,
   "metadata": {
    "collapsed": false
   },
   "outputs": [
    {
     "data": {
      "text/plain": [
       "array([[0. , 0. ],\n",
       "       [0. , 1. ],\n",
       "       [1. , 1. ],\n",
       "       [1. , 0. ],\n",
       "       [0. , 0.5],\n",
       "       [0.5, 0. ]])"
      ]
     },
     "execution_count": 38,
     "metadata": {},
     "output_type": "execute_result"
    }
   ],
   "source": [
    "points0"
   ]
  },
  {
   "cell_type": "code",
   "execution_count": 37,
   "metadata": {
    "collapsed": false
   },
   "outputs": [
    {
     "data": {
      "text/plain": [
       "array([[0. , 0. ],\n",
       "       [0. , 1. ],\n",
       "       [1. , 1. ],\n",
       "       [1. , 0. ],\n",
       "       [0. , 0.5],\n",
       "       [0.5, 0. ]])"
      ]
     },
     "execution_count": 37,
     "metadata": {},
     "output_type": "execute_result"
    }
   ],
   "source": [
    "points1"
   ]
  },
  {
   "cell_type": "code",
   "execution_count": 709,
   "metadata": {
    "collapsed": false
   },
   "outputs": [],
   "source": [
    "used_simps = np.array([], dtype=np.int)\n",
    "uni_bad_edges = np.array([], dtype=np.int)\n",
    "uni_bad_simps = np.array([], dtype=np.int)\n",
    "\n",
    "# The surface becomes inconsistent if two edges within the same simplex are flagged at once.\n",
    "# To combat this, only the first edge is split, and the second is assumed to be caught\n",
    "# by the subsequent time step\n",
    "for i in np.arange(bad_edges.shape[0]):\n",
    "    bad_edge = bad_edges[i]\n",
    "    # Keep track of the simplices associated with an edge\n",
    "    isin_arr = isin_nb(simplices, bad_edge)\n",
    "    simplices_tag = np.array(isin_arr).sum(axis=-1) > 1\n",
    "    # simplices_tag = np.isin(simplices, bad_edge).sum(axis=-1) > 1\n",
    "\n",
    "    simplices_tag = np.where(simplices_tag)[0]\n",
    "\n",
    "    if not np.any(np.in1d(simplices_tag, used_simps)):  # Check if we have used this simplex\n",
    "        # Flag simplices_tag to not reuse simplices\n",
    "        used_simps = np.append(used_simps, simplices_tag)\n",
    "        # Add edge to new bad edge array\n",
    "        uni_bad_edges = np.append(uni_bad_edges, bad_edge)\n",
    "        # Remove bad edges from the list of edges\n",
    "        edges_tag = isin_nb(edges, bad_edge).sum(axis=-1) == 2\n",
    "        edges = edges[~(edges_tag)]\n",
    "\n",
    "        # Add simplice(s) with the proper extras populated\n",
    "        for j in range(ndim):\n",
    "            if np.size(simplices_tag) > j:\n",
    "                uni_bad_simps = np.append(uni_bad_simps, simplices[simplices_tag[j]], axis=0)\n",
    "    \n",
    "uni_bad_simps = uni_bad_simps.reshape(-1, ndim+1)\n",
    "uni_bad_edges = uni_bad_edges.reshape(-1, 2)\n",
    "\n",
    "    # Add the midpoints of all the bad edges\n",
    "midpts_ind = np.arange(np.shape(points)[0], np.shape(points)[0]+np.shape(uni_bad_edges)[0], 1, dtype=np.int)\n",
    "midpts = (points[uni_bad_edges[:, 0]] + points[uni_bad_edges[:, 1]])/2\n",
    "points = np.append(points, midpts, axis=0)\n",
    "\n",
    "# Add the two edges that replace all the bad edges\n",
    "edges_1 = np.sort(np.append(midpts_ind, uni_bad_edges[:, 0], axis=0).reshape(2,-1).T, axis=1)\n",
    "edges_2 = np.sort(np.append(midpts_ind, uni_bad_edges[:, 1], axis=0).reshape(2,-1).T, axis=1)\n",
    "edges = np.concatenate((edges, edges_1, edges_2), axis=0)\n",
    "\n",
    "# Delete all the bad edges\n",
    "simplices = np.delete(simplices, used_simps, axis=0)"
   ]
  },
  {
   "cell_type": "code",
   "execution_count": 719,
   "metadata": {
    "collapsed": true
   },
   "outputs": [],
   "source": [
    "used_simps = np.zeros(1, np.int64) - 1\n",
    "uni_bad_edges = np.zeros((1,2), np.int64) \n",
    "uni_bad_simps = np.zeros((1,ndim+1), np.int64)\n",
    "\n",
    "# The surface becomes inconsistent if two edges within the same simplex are flagged at once.\n",
    "# To combat this, only the first edge is split, and the second is assumed to be caught\n",
    "# by the subsequent time step\n",
    "for i in np.arange(bad_edges.shape[0]):\n",
    "    bad_edge = bad_edges[i]\n",
    "    # Keep track of the simplices associated with an edge\n",
    "    simplices_tag = np.where(sum_nb(isin_nb(simplices, bad_edge))>1)[0]\n",
    "\n",
    "    if not np.any(in1d_nb(simplices_tag, used_simps)):  # Check if we have used this simplex\n",
    "        # Flag simplices_tag to not reuse simplices\n",
    "        if i == 0:\n",
    "            used_simps = simplices_tag\n",
    "        else:\n",
    "            used_simps = np.concatenate((used_simps, simplices_tag))\n",
    "        # Add edge to new bad edge array\n",
    "        if i == 0:\n",
    "            uni_bad_edges[0] = bad_edge\n",
    "        else:\n",
    "            uni_bad_edges = np.concatenate((uni_bad_edges.ravel(), bad_edge)).reshape((uni_bad_edges.shape[0]+1,2))\n",
    "        # Remove bad edges from the list of edges\n",
    "        edges_tag = sum_nb(isin_nb(edges, bad_edge)) == 2\n",
    "        edges = edges[~(edges_tag)]\n",
    "\n",
    "        # Add simplice(s) with the proper extras populated\n",
    "        if i == 0:\n",
    "            uni_bad_simps[0] = simplices[simplices_tag[0]]\n",
    "            for j in np.arange(1, len(simplices_tag)):\n",
    "                   uni_bad_simps = np.concatenate((uni_bad_simps.ravel(), simplices[simplices_tag[j]])).reshape((uni_bad_simps.shape[0]+1, uni_bad_simps.shape[1]))\n",
    "        else:\n",
    "            for tag in simplices_tag:\n",
    "                uni_bad_simps = np.concatenate((uni_bad_simps.ravel(), simplices[tag])).reshape((uni_bad_simps.shape[0]+1, uni_bad_simps.shape[1]))\n",
    "\n",
    "uni_bad_simps = uni_bad_simps.reshape(-1, ndim+1)\n",
    "uni_bad_edges = uni_bad_edges.reshape(-1, 2)\n",
    "\n",
    "# Add the midpoints of all the bad edges\n",
    "midpts_ind = np.arange(points.shape[0], points.shape[0] + uni_bad_edges.shape[0], 1)\n",
    "midpts = (points[uni_bad_edges[:, 0]] + points[uni_bad_edges[:, 1]])/2\n",
    "points = np.concatenate((points.ravel(), midpts.ravel())).reshape(len(points)+len(midpts),ndim)\n",
    "\n",
    "# Add the two edges that replace all the bad edges\n",
    "edges_1 = np.concatenate((midpts_ind, uni_bad_edges[:, 0])).reshape(2,-1).T\n",
    "edges_2 = np.concatenate((midpts_ind, uni_bad_edges[:, 1])).reshape(2,-1).T\n",
    "edges = np.concatenate((edges, edges_1, edges_2), axis=0)\n",
    "\n",
    "# Delete all the bad edges\n",
    "# for ind in used_simps:\n",
    "#     simplices = delete_row_nb(simplices, ind)"
   ]
  },
  {
   "cell_type": "code",
   "execution_count": 720,
   "metadata": {
    "collapsed": false
   },
   "outputs": [
    {
     "data": {
      "text/plain": [
       "array([0, 1])"
      ]
     },
     "execution_count": 720,
     "metadata": {},
     "output_type": "execute_result"
    }
   ],
   "source": [
    "used_simps"
   ]
  },
  {
   "cell_type": "code",
   "execution_count": 721,
   "metadata": {
    "collapsed": false
   },
   "outputs": [
    {
     "data": {
      "text/plain": [
       "array([[0, 1, 2],\n",
       "       [2, 3, 0]])"
      ]
     },
     "execution_count": 721,
     "metadata": {},
     "output_type": "execute_result"
    }
   ],
   "source": [
    "simplices"
   ]
  },
  {
   "cell_type": "code",
   "execution_count": 722,
   "metadata": {
    "collapsed": false
   },
   "outputs": [],
   "source": [
    "simplices = delete_row_nb(simplices, used_simps)"
   ]
  },
  {
   "cell_type": "code",
   "execution_count": 723,
   "metadata": {
    "collapsed": false
   },
   "outputs": [
    {
     "data": {
      "text/plain": [
       "array([], shape=(0, 3), dtype=int64)"
      ]
     },
     "execution_count": 723,
     "metadata": {},
     "output_type": "execute_result"
    }
   ],
   "source": [
    "simplices"
   ]
  },
  {
   "cell_type": "code",
   "execution_count": 686,
   "metadata": {
    "collapsed": false
   },
   "outputs": [
    {
     "data": {
      "text/plain": [
       "array([1, 1, 0, 0, 0])"
      ]
     },
     "execution_count": 686,
     "metadata": {},
     "output_type": "execute_result"
    }
   ],
   "source": [
    "sum_nb(isin_nb(edges, bad_edge))"
   ]
  },
  {
   "cell_type": "code",
   "execution_count": 687,
   "metadata": {
    "collapsed": false
   },
   "outputs": [
    {
     "data": {
      "text/plain": [
       "2"
      ]
     },
     "execution_count": 687,
     "metadata": {},
     "output_type": "execute_result"
    }
   ],
   "source": [
    "True+True"
   ]
  },
  {
   "cell_type": "code",
   "execution_count": 697,
   "metadata": {
    "collapsed": true
   },
   "outputs": [],
   "source": [
    "@jit(nopython=True)\n",
    "def sum_nb(isin_arr):\n",
    "    summed = np.zeros(isin_arr.shape[0], dtype=np.int64)\n",
    "    for i in np.arange(0, isin_arr.shape[0]):\n",
    "        summed[i] = np.sum(isin_arr[i])\n",
    "    return summed"
   ]
  },
  {
   "cell_type": "code",
   "execution_count": 690,
   "metadata": {
    "collapsed": true
   },
   "outputs": [],
   "source": [
    "summed = np.zeros(a.shape[0], dtype=np.int64)"
   ]
  },
  {
   "cell_type": "code",
   "execution_count": 696,
   "metadata": {
    "collapsed": false
   },
   "outputs": [
    {
     "data": {
      "text/plain": [
       "1"
      ]
     },
     "execution_count": 696,
     "metadata": {},
     "output_type": "execute_result"
    }
   ],
   "source": [
    "np.sum(a[3])"
   ]
  },
  {
   "cell_type": "code",
   "execution_count": 760,
   "metadata": {
    "collapsed": false
   },
   "outputs": [],
   "source": [
    "@jit(nopython=True)\n",
    "def blah(a):\n",
    "    return np.unique(np.array([1,2,3,4,5,6,1,3,10]))"
   ]
  },
  {
   "cell_type": "code",
   "execution_count": 756,
   "metadata": {
    "collapsed": false
   },
   "outputs": [
    {
     "data": {
      "text/plain": [
       "array([ 1,  2,  3,  4,  5,  6, 10])"
      ]
     },
     "execution_count": 756,
     "metadata": {},
     "output_type": "execute_result"
    }
   ],
   "source": [
    "np.unique(np.array([1,2,3,4,5,6,1,3,10]))"
   ]
  },
  {
   "cell_type": "code",
   "execution_count": 758,
   "metadata": {
    "collapsed": false
   },
   "outputs": [
    {
     "data": {
      "text/plain": [
       "CPUDispatcher(<function blah at 0x11a1c1e18>)"
      ]
     },
     "execution_count": 758,
     "metadata": {},
     "output_type": "execute_result"
    }
   ],
   "source": [
    "a"
   ]
  },
  {
   "cell_type": "code",
   "execution_count": null,
   "metadata": {
    "collapsed": true
   },
   "outputs": [],
   "source": []
  }
 ],
 "metadata": {
  "kernelspec": {
   "display_name": "Python 3",
   "language": "python",
   "name": "python3"
  },
  "language_info": {
   "codemirror_mode": {
    "name": "ipython",
    "version": 3
   },
   "file_extension": ".py",
   "mimetype": "text/x-python",
   "name": "python",
   "nbconvert_exporter": "python",
   "pygments_lexer": "ipython3",
   "version": "3.6.0"
  }
 },
 "nbformat": 4,
 "nbformat_minor": 2
}
