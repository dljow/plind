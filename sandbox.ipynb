{
 "cells": [
  {
   "cell_type": "code",
   "execution_count": 917,
   "metadata": {
    "collapsed": false
   },
   "outputs": [],
   "source": [
    "import numpy as np\n",
    "from plind.contour_dict import realcontour_1D, realcontour_nd\n",
    "from plind.integrate import conintegrate\n",
    "from plind import plmodel\n",
    "from plind.contour import contour\n",
    "import matplotlib.pyplot as plt\n",
    "from math import factorial as fact\n",
    "import itertools\n",
    "from time import time"
   ]
  },
  {
   "cell_type": "code",
   "execution_count": 904,
   "metadata": {
    "collapsed": false
   },
   "outputs": [
    {
     "name": "stdout",
     "output_type": "stream",
     "text": [
      "The autoreload extension is already loaded. To reload it, use:\n",
      "  %reload_ext autoreload\n"
     ]
    }
   ],
   "source": [
    "%load_ext autoreload\n",
    "%autoreload 2"
   ]
  },
  {
   "cell_type": "code",
   "execution_count": 891,
   "metadata": {
    "collapsed": true
   },
   "outputs": [],
   "source": [
    "def cantor_pairing(a, b):\n",
    "    return (0.5*(a+b)*(a+b+1)+b).astype(int)\n",
    "\n",
    "def refine(simplices, points, delta, ndim):\n",
    "    # construct edges from simplices and compute lengths\n",
    "    edges = np.array([list(itertools.combinations(simp, 2)) for simp in simplices])\n",
    "    diff = points[edges[:,:,0]] - points[edges[:,:,1]]\n",
    "    if ndim==1:\n",
    "        lengths = np.abs(np.sqrt(diff**2))\n",
    "    else:\n",
    "        lengths = np.abs(np.sqrt(np.sum([diff[:,:,i]**2 for i in np.arange(diff.shape[2])], axis=0)))\n",
    "\n",
    "    # find edges that exceed delta\n",
    "    where = np.where(lengths>delta)\n",
    "    if len(where[0])>0:\n",
    "        all_bad_edges = edges[where]\n",
    "        all_edge_key = cantor_pairing(all_bad_edges[:,0], all_bad_edges[:,1]) # unique indetifier for each edge\n",
    "\n",
    "        # make it so there is only one edge per simplex, and remove secondary edges as flagged edges\n",
    "        bad_simp_ind, prim_edge_ind = np.unique(where[0], return_index=True)\n",
    "        dupl_edge_key = np.delete(all_edge_key, prim_edge_ind)\n",
    "        dupl_edge_ind = np.where(np.in1d(all_edge_key, dupl_edge_key))[0]\n",
    "\n",
    "        bad_simp_ind = np.delete(where[0], dupl_edge_ind)\n",
    "        bad_simps = simplices[bad_simp_ind]\n",
    "        bad_edges = np.delete(all_bad_edges, dupl_edge_ind, axis=0)\n",
    "        edge_key = np.delete(all_edge_key, dupl_edge_ind)\n",
    "\n",
    "        # create new points to add to simplices and also determine the index of these new points once added to self.points\n",
    "        uni_edge_key, unique_inds = np.unique(edge_key, return_index=True) # identify unique edges (as edges may be shared by simplices)\n",
    "        uni_bad_edges = bad_edges[unique_inds]\n",
    "\n",
    "        new_pnts = (points[uni_bad_edges[:, 0]] + points[uni_bad_edges[:, 1]])/2\n",
    "        newpnts_inds = np.array([np.where(uni_edge_key==i)[0][0] for i in edge_key]) + len(points)\n",
    "\n",
    "        A = np.hstack([newpnts_inds[:, None], np.array([simp[np.where(simp != e0)] for simp, e0 in zip(bad_simps, bad_edges[:,0])])])\n",
    "        B = np.hstack([newpnts_inds[:, None], np.array([simp[np.where(simp != e0)] for simp, e0 in zip(bad_simps, bad_edges[:,1])])])\n",
    "        new_simps = np.concatenate([A,B])\n",
    "\n",
    "        new_simps = np.concatenate([np.delete(simplices, bad_simp_ind, axis=0), new_simps])\n",
    "        new_pnts = np.concatenate([points, new_pnts])\n",
    "        \n",
    "        return new_simps, new_pnts\n",
    "    else:\n",
    "        return simplices, points\n",
    "\n"
   ]
  },
  {
   "cell_type": "code",
   "execution_count": 900,
   "metadata": {
    "collapsed": false
   },
   "outputs": [
    {
     "name": "stdout",
     "output_type": "stream",
     "text": [
      "[[0 4 3]\n",
      " [6 1 4]\n",
      " [7 2 4]\n",
      " [8 4 3]\n",
      " [6 1 5]\n",
      " [6 0 4]\n",
      " [7 1 4]\n",
      " [8 2 4]\n",
      " [6 0 5]] \n",
      " [[ 0.     0.   ]\n",
      " [ 0.     1.   ]\n",
      " [ 1.     1.   ]\n",
      " [ 0.6    0.   ]\n",
      " [ 0.7    0.7  ]\n",
      " [-0.001  0.5  ]\n",
      " [ 0.     0.5  ]\n",
      " [ 0.5    1.   ]\n",
      " [ 0.8    0.5  ]]\n"
     ]
    }
   ],
   "source": [
    "# 2D check\n",
    "delta = 0.72\n",
    "points = np.array([[0., 0.],\n",
    "           [0., 1.],\n",
    "           [1., 1.],\n",
    "           [0.6,0.],\n",
    "           [0.7, 0.7],\n",
    "           [-0.001, 0.5]])\n",
    "simplices = np.array([[0,1,4], [1,2,4],[2,4,3],[0,4,3],[0,1,5]])\n",
    "\n",
    "new_simps, new_pnts = refine(simplices, points, delta, 2)\n",
    "print(new_simps, '\\n', new_pnts)"
   ]
  },
  {
   "cell_type": "code",
   "execution_count": 901,
   "metadata": {
    "collapsed": false
   },
   "outputs": [
    {
     "name": "stdout",
     "output_type": "stream",
     "text": [
      "[[3 4]\n",
      " [5 1]\n",
      " [6 2]\n",
      " [7 3]\n",
      " [5 0]\n",
      " [6 1]\n",
      " [7 2]] \n",
      " [0. +0.j  1. +1.j  2. +2.j  3. +3.j  3.1+3.1j 0.5+0.5j 1.5+1.5j 2.5+2.5j]\n"
     ]
    }
   ],
   "source": [
    "# 1D test\n",
    "delta = 1.\n",
    "points = np.array([0., 1.+1j, 2.+2j, 3.+3j, 3.1+3.1j])\n",
    "simplices = np.array([[0,1],[1,2],[2,3],[3,4]])\n",
    "ndim = 1\n",
    "\n",
    "new_simps, new_pnts = refine(simplices, points, delta, 1)\n",
    "print(new_simps, '\\n', new_pnts)"
   ]
  },
  {
   "cell_type": "code",
   "execution_count": 902,
   "metadata": {
    "collapsed": false
   },
   "outputs": [
    {
     "name": "stdout",
     "output_type": "stream",
     "text": [
      "[[5 0 2 3]\n",
      " [5 2 3 4]\n",
      " [5 0 1 3]\n",
      " [5 1 3 4]] \n",
      " [[0.  0.  0. ]\n",
      " [1.  0.  0. ]\n",
      " [0.  1.  0. ]\n",
      " [0.  0.  1. ]\n",
      " [1.  1.  1. ]\n",
      " [0.5 0.5 0. ]]\n"
     ]
    }
   ],
   "source": [
    "# 3D test\n",
    "delta = 1.\n",
    "points = np.array([[0., 0., 0.],\n",
    "                  [1., 0., 0.],\n",
    "                  [0., 1., 0.],\n",
    "                  [0., 0., 1.],\n",
    "                  [1., 1., 1.]])\n",
    "simplices = np.array([[0,1,2,3],[1,2,3,4]])\n",
    "\n",
    "new_simps, new_pnts = refine(simplices, points, delta, 3)\n",
    "print(new_simps, '\\n', new_pnts)"
   ]
  },
  {
   "cell_type": "code",
   "execution_count": 935,
   "metadata": {
    "collapsed": false
   },
   "outputs": [
    {
     "name": "stdout",
     "output_type": "stream",
     "text": [
      "0.5491399765014648\n"
     ]
    }
   ],
   "source": [
    "# big test\n",
    "Nit = 3\n",
    "contour = realcontour_nd(100, (-0.5,0.5,-0.5,0.5))\n",
    "\n",
    "t0 = time()\n",
    "for i in np.arange(Nit):\n",
    "    new_simps, new_pnts = refine(contour.simplices, contour.points, 0.00001, contour.ndim)\n",
    "t1 = time()\n",
    "print((t1-t0)/Nit)"
   ]
  },
  {
   "cell_type": "code",
   "execution_count": 936,
   "metadata": {
    "collapsed": false
   },
   "outputs": [
    {
     "name": "stdout",
     "output_type": "stream",
     "text": [
      "50.4124858379364\n"
     ]
    }
   ],
   "source": [
    "init_time = 0\n",
    "refine_time = 0\n",
    "for i in np.arange(Nit):\n",
    "    contour = realcontour_nd(100, (-0.5,0.5,-0.5,0.5))\n",
    "    t0 = time()\n",
    "    contour.refine_edges(0.00001)\n",
    "    t1 = time()\n",
    "    refine_time += t1-t0\n",
    "\n",
    "print((refine_time)/Nit)\n",
    "\n",
    "    "
   ]
  },
  {
   "cell_type": "code",
   "execution_count": 912,
   "metadata": {
    "collapsed": false
   },
   "outputs": [
    {
     "data": {
      "text/plain": [
       "1292"
      ]
     },
     "execution_count": 912,
     "metadata": {},
     "output_type": "execute_result"
    }
   ],
   "source": [
    "len(new_simps)"
   ]
  },
  {
   "cell_type": "markdown",
   "metadata": {},
   "source": [
    "# Attempt 1"
   ]
  },
  {
   "cell_type": "code",
   "execution_count": 609,
   "metadata": {
    "collapsed": true
   },
   "outputs": [],
   "source": [
    "def cantor_pairing(a, b):\n",
    "    return (0.5*(a+b)*(a+b+1)+b).astype(int)\n",
    "\n",
    "def refine(simplices, points, delta, ndim):\n",
    "    # construct edges from simplices and compute lengths\n",
    "    edges = np.array([list(itertools.combinations(simp, 2)) for simp in simplices])\n",
    "    diff = points[edges[:,:,0]] - points[edges[:,:,1]]\n",
    "    if ndim==1:\n",
    "        lengths = np.abs(np.sqrt(diff**2))\n",
    "    else:\n",
    "        lengths = np.abs(np.sqrt(np.sum([diff[:,:,i]**2 for i in np.arange(diff.shape[2])], axis=0)))\n",
    "    \n",
    "    # find edges that exceed delta\n",
    "    where = np.where(lengths>delta)\n",
    "    bad_simp_ind = np.unique(where[0])\n",
    "    bad_edges = edges[where]\n",
    "\n",
    "    # use cantor pairing function to assign unique identifier for an edge to identify duplicates\n",
    "    edge_key = cantor_pairing(bad_edges[:,0], bad_edges[:,1])\n",
    "    uni_edge_key, unique_inds = np.unique(edge_key, return_index=True)\n",
    "    uni_bad_edges = bad_edges[unique_inds]\n",
    "    \n",
    "    # create new points to add to simplices and also determine the index of these new points once added to self.points\n",
    "    uni_edgepts = (points[uni_bad_edges[:, 0]] + points[uni_bad_edges[:, 1]])/2\n",
    "    centres = (np.sum(points[simplices[bad_simp_ind]], axis=1))/simplices.shape[1]\n",
    "    new_pnts = np.concatenate([uni_edgepts, centres])\n",
    "    edgepts_inds = np.array([np.where(uni_edge_key==i)[0][0] for i in edge_key]) + len(points)\n",
    "    centrepts_inds = np.arange(len(centres)) + len(points) + len(uni_edgepts)\n",
    "\n",
    "    # generate new simplices \n",
    "    new_simplices = simplices \n",
    "    for i, simp in enumerate(simplices):\n",
    "        cp = centrepts_inds[i]\n",
    "        edpt = edgepts_inds[where[0]==i]\n",
    "        bad_e = bad_edges[where[0]==i]\n",
    "\n",
    "        orig_e = np.array(list(itertools.combinations(simp, 2)))\n",
    "        good_e = orig_e[np.invert((orig_e[:,None] == bad_e).all(2).any(1))]\n",
    "\n",
    "        not_centre_es = np.array([list(itertools.combinations(np.concatenate([bad_e[i], [ep]]), 2)) for i, ep in enumerate(edpt)])\n",
    "        not_centre_es = not_centre_es.reshape(not_centre_es.shape[0]*not_centre_es.shape[1], 2)\n",
    "\n",
    "        A = np.concatenate([not_centre_es, orig_e])\n",
    "        not_centre_es = A[np.invert((A[:, None] == orig_e).all(2).any(1))]\n",
    "        not_centre_es = np.concatenate([not_centre_es, good_e])\n",
    "\n",
    "        cstack = np.array([[cp]]*len(not_centre_es))\n",
    "        new_simps = np.hstack([not_centre_es, cstack])\n",
    "        new_simplices = np.concatenate([new_simplices, new_simps])\n",
    "\n",
    "    new_simplices = np.delete(new_simplices, bad_simp_ind, axis=0)\n",
    "    new_points = np.concatenate([points, new_pnts])\n",
    "    return new_simplices, new_points\n"
   ]
  },
  {
   "cell_type": "code",
   "execution_count": 606,
   "metadata": {
    "collapsed": false
   },
   "outputs": [
    {
     "name": "stdout",
     "output_type": "stream",
     "text": [
      "[[ 0.         -1.        ]\n",
      " [ 0.          1.        ]\n",
      " [ 3.          0.        ]\n",
      " [ 2.          2.        ]\n",
      " [ 1.5        -0.5       ]\n",
      " [ 1.5         0.5       ]\n",
      " [ 1.          0.        ]\n",
      " [ 1.66666667  1.        ]]\n",
      "[[0 4 6]\n",
      " [2 4 6]\n",
      " [1 5 6]\n",
      " [2 5 6]\n",
      " [0 1 6]\n",
      " [1 5 7]\n",
      " [2 5 7]\n",
      " [1 3 7]\n",
      " [2 3 7]]\n"
     ]
    }
   ],
   "source": [
    "# 2D test\n",
    "delta = 2.5\n",
    "points = np.array([[0., -1.],\n",
    "           [0., 1.],\n",
    "           [3., 0.],\n",
    "           [2.,2.]])\n",
    "simplices = np.array([[0,1,2], [1,2,3]])\n",
    "\n",
    "new_simps, new_pnts = refine(simplices, points, delta, 2)\n",
    "\n",
    "print(new_pnts)\n",
    "print(new_simps)"
   ]
  },
  {
   "cell_type": "code",
   "execution_count": 612,
   "metadata": {
    "collapsed": false
   },
   "outputs": [
    {
     "ename": "ValueError",
     "evalue": "all the input array dimensions for the concatenation axis must match exactly, but along dimension 1, the array at index 0 has size 2 and the array at index 1 has size 3",
     "output_type": "error",
     "traceback": [
      "\u001b[0;31m---------------------------------------------------------------------------\u001b[0m",
      "\u001b[0;31mValueError\u001b[0m                                Traceback (most recent call last)",
      "\u001b[0;32m<ipython-input-612-9fd47fed6754>\u001b[0m in \u001b[0;36m<module>\u001b[0;34m()\u001b[0m\n\u001b[1;32m     54\u001b[0m     \u001b[0mcstack\u001b[0m \u001b[0;34m=\u001b[0m \u001b[0mnp\u001b[0m\u001b[0;34m.\u001b[0m\u001b[0marray\u001b[0m\u001b[0;34m(\u001b[0m\u001b[0;34m[\u001b[0m\u001b[0;34m[\u001b[0m\u001b[0mcp\u001b[0m\u001b[0;34m]\u001b[0m\u001b[0;34m]\u001b[0m\u001b[0;34m*\u001b[0m\u001b[0mlen\u001b[0m\u001b[0;34m(\u001b[0m\u001b[0mnot_centre_es\u001b[0m\u001b[0;34m)\u001b[0m\u001b[0;34m)\u001b[0m\u001b[0;34m\u001b[0m\u001b[0m\n\u001b[1;32m     55\u001b[0m     \u001b[0mnew_simps\u001b[0m \u001b[0;34m=\u001b[0m \u001b[0mnp\u001b[0m\u001b[0;34m.\u001b[0m\u001b[0mhstack\u001b[0m\u001b[0;34m(\u001b[0m\u001b[0;34m[\u001b[0m\u001b[0mnot_centre_es\u001b[0m\u001b[0;34m,\u001b[0m \u001b[0mcstack\u001b[0m\u001b[0;34m]\u001b[0m\u001b[0;34m)\u001b[0m\u001b[0;34m\u001b[0m\u001b[0m\n\u001b[0;32m---> 56\u001b[0;31m     \u001b[0mnew_simplices\u001b[0m \u001b[0;34m=\u001b[0m \u001b[0mnp\u001b[0m\u001b[0;34m.\u001b[0m\u001b[0mconcatenate\u001b[0m\u001b[0;34m(\u001b[0m\u001b[0;34m[\u001b[0m\u001b[0mnew_simplices\u001b[0m\u001b[0;34m,\u001b[0m \u001b[0mnew_simps\u001b[0m\u001b[0;34m]\u001b[0m\u001b[0;34m)\u001b[0m\u001b[0;34m\u001b[0m\u001b[0m\n\u001b[0m\u001b[1;32m     57\u001b[0m \u001b[0;34m\u001b[0m\u001b[0m\n\u001b[1;32m     58\u001b[0m \u001b[0mnew_simplices\u001b[0m \u001b[0;34m=\u001b[0m \u001b[0mnp\u001b[0m\u001b[0;34m.\u001b[0m\u001b[0mdelete\u001b[0m\u001b[0;34m(\u001b[0m\u001b[0mnew_simplices\u001b[0m\u001b[0;34m,\u001b[0m \u001b[0mbad_simp_ind\u001b[0m\u001b[0;34m,\u001b[0m \u001b[0maxis\u001b[0m\u001b[0;34m=\u001b[0m\u001b[0;36m0\u001b[0m\u001b[0;34m)\u001b[0m\u001b[0;34m\u001b[0m\u001b[0m\n",
      "\u001b[0;32m<__array_function__ internals>\u001b[0m in \u001b[0;36mconcatenate\u001b[0;34m(*args, **kwargs)\u001b[0m\n",
      "\u001b[0;31mValueError\u001b[0m: all the input array dimensions for the concatenation axis must match exactly, but along dimension 1, the array at index 0 has size 2 and the array at index 1 has size 3"
     ]
    }
   ],
   "source": [
    "# 1D test\n",
    "delta = 1.\n",
    "points = np.array([0., 1.+1j, 2.+2j, 3.+3j, 3.1+3.1j])\n",
    "simplices = np.array([[0,1],[1,2],[2,3],[3,4]])\n",
    "ndim = 1\n",
    "\n",
    "#new_simps, new_pnts = refine(simplices, points, delta, 1)\n",
    "\n",
    "#print(new_pnts)\n",
    "#print(new_simps)\n",
    "\n",
    " # construct edges from simplices and compute lengths\n",
    "edges = np.array([list(itertools.combinations(simp, 2)) for simp in simplices])\n",
    "diff = points[edges[:,:,0]] - points[edges[:,:,1]]\n",
    "if ndim==1:\n",
    "    lengths = np.abs(np.sqrt(diff**2))\n",
    "else:\n",
    "    lengths = np.abs(np.sqrt(np.sum([diff[:,:,i]**2 for i in np.arange(diff.shape[2])], axis=0)))\n",
    "\n",
    "# find edges that exceed delta\n",
    "where = np.where(lengths>delta)\n",
    "bad_simp_ind = np.unique(where[0])\n",
    "bad_edges = edges[where]\n",
    "\n",
    "# use cantor pairing function to assign unique identifier for an edge to identify duplicates\n",
    "edge_key = cantor_pairing(bad_edges[:,0], bad_edges[:,1])\n",
    "uni_edge_key, unique_inds = np.unique(edge_key, return_index=True)\n",
    "uni_bad_edges = bad_edges[unique_inds]\n",
    "\n",
    "# create new points to add to simplices and also determine the index of these new points once added to self.points\n",
    "uni_edgepts = (points[uni_bad_edges[:, 0]] + points[uni_bad_edges[:, 1]])/2\n",
    "centres = (np.sum(points[simplices[bad_simp_ind]], axis=1))/simplices.shape[1]\n",
    "new_pnts = np.concatenate([uni_edgepts, centres])\n",
    "edgepts_inds = np.array([np.where(uni_edge_key==i)[0][0] for i in edge_key]) + len(points)\n",
    "centrepts_inds = np.arange(len(centres)) + len(points) + len(uni_edgepts)\n",
    "\n",
    "# generate new simplices \n",
    "new_simplices = simplices \n",
    "for i, simp in enumerate(simplices):\n",
    "    cp = centrepts_inds[i]\n",
    "    edpt = edgepts_inds[where[0]==i]\n",
    "    bad_e = bad_edges[where[0]==i]\n",
    "\n",
    "    orig_e = np.array(list(itertools.combinations(simp, 2)))\n",
    "    good_e = orig_e[np.invert((orig_e[:,None] == bad_e).all(2).any(1))]\n",
    "\n",
    "    not_centre_es = np.array([list(itertools.combinations(np.concatenate([bad_e[i], [ep]]), 2)) for i, ep in enumerate(edpt)])\n",
    "    not_centre_es = not_centre_es.reshape(not_centre_es.shape[0]*not_centre_es.shape[1], 2)\n",
    "\n",
    "    A = np.concatenate([not_centre_es, orig_e])\n",
    "    not_centre_es = A[np.invert((A[:, None] == orig_e).all(2).any(1))]\n",
    "    not_centre_es = np.concatenate([not_centre_es, good_e])\n",
    "\n",
    "    cstack = np.array([[cp]]*len(not_centre_es))\n",
    "    new_simps = np.hstack([not_centre_es, cstack])\n",
    "    new_simplices = np.concatenate([new_simplices, new_simps])\n",
    "\n",
    "new_simplices = np.delete(new_simplices, bad_simp_ind, axis=0)\n",
    "new_points = np.concatenate([points, new_pnts])"
   ]
  },
  {
   "cell_type": "code",
   "execution_count": 619,
   "metadata": {
    "collapsed": false
   },
   "outputs": [
    {
     "data": {
      "text/plain": [
       "array([[0, 1]])"
      ]
     },
     "execution_count": 619,
     "metadata": {},
     "output_type": "execute_result"
    }
   ],
   "source": [
    "orig_e"
   ]
  },
  {
   "cell_type": "markdown",
   "metadata": {},
   "source": [
    "# developing"
   ]
  },
  {
   "cell_type": "code",
   "execution_count": 539,
   "metadata": {
    "collapsed": false
   },
   "outputs": [],
   "source": [
    "delta = 2\n",
    "c = contour()\n",
    "c.points = np.array([[0., -1.],\n",
    "           [0., 1.],\n",
    "           [3., 0.],\n",
    "           [2.,2.]])\n",
    "c.simplices = np.array([[0,1,2], [1,2,3]])\n",
    "ndim = 2"
   ]
  },
  {
   "cell_type": "code",
   "execution_count": null,
   "metadata": {
    "collapsed": true
   },
   "outputs": [],
   "source": []
  },
  {
   "cell_type": "code",
   "execution_count": 540,
   "metadata": {
    "collapsed": false
   },
   "outputs": [
    {
     "name": "stdout",
     "output_type": "stream",
     "text": [
      "[2 1]\n"
     ]
    }
   ],
   "source": [
    "max_edge_arg = np.argmax(ei_dot_ej.reshape(-1, ei_dot_ej.shape[-1]), axis=0)\n",
    "print(max_edge_arg)"
   ]
  },
  {
   "cell_type": "code",
   "execution_count": 541,
   "metadata": {
    "collapsed": false
   },
   "outputs": [
    {
     "name": "stdout",
     "output_type": "stream",
     "text": [
      "[[0 2]\n",
      " [0 1]]\n"
     ]
    }
   ],
   "source": [
    "A = np.stack((max_edge_arg//(ndim+1), max_edge_arg%(ndim+1)), axis=1)[bad_simp_ind]\n",
    "print(A)"
   ]
  },
  {
   "cell_type": "code",
   "execution_count": 542,
   "metadata": {
    "collapsed": false
   },
   "outputs": [
    {
     "name": "stdout",
     "output_type": "stream",
     "text": [
      "[[0 2]\n",
      " [1 2]]\n"
     ]
    }
   ],
   "source": [
    "bad_edges = np.array([bad_simp[i][a] for i,a in enumerate(A)])\n",
    "print(bad_edges)"
   ]
  },
  {
   "cell_type": "code",
   "execution_count": 543,
   "metadata": {
    "collapsed": false
   },
   "outputs": [],
   "source": [
    "bad_simps = c.simplices[bad_simp_ind]"
   ]
  },
  {
   "cell_type": "code",
   "execution_count": 544,
   "metadata": {
    "collapsed": false
   },
   "outputs": [
    {
     "data": {
      "text/plain": [
       "True"
      ]
     },
     "execution_count": 544,
     "metadata": {},
     "output_type": "execute_result"
    }
   ],
   "source": [
    "all(x in bad_simp[0] for x in bad_edges[0])"
   ]
  },
  {
   "cell_type": "code",
   "execution_count": 545,
   "metadata": {
    "collapsed": false
   },
   "outputs": [
    {
     "data": {
      "text/plain": [
       "array([[ True,  True,  True],\n",
       "       [ True,  True, False]])"
      ]
     },
     "execution_count": 545,
     "metadata": {},
     "output_type": "execute_result"
    }
   ],
   "source": [
    "np.isin(c.simplices, bad_edges)"
   ]
  },
  {
   "cell_type": "code",
   "execution_count": 546,
   "metadata": {
    "collapsed": false
   },
   "outputs": [
    {
     "data": {
      "text/plain": [
       "array([[0, 1, 2],\n",
       "       [1, 2, 3]])"
      ]
     },
     "execution_count": 546,
     "metadata": {},
     "output_type": "execute_result"
    }
   ],
   "source": [
    "bad_simp"
   ]
  },
  {
   "cell_type": "code",
   "execution_count": 547,
   "metadata": {
    "collapsed": false
   },
   "outputs": [
    {
     "data": {
      "text/plain": [
       "array([[[0, 1, 2],\n",
       "        [0, 1, 2]],\n",
       "\n",
       "       [[0, 1, 2],\n",
       "        [1, 2, 3]],\n",
       "\n",
       "       [[1, 2, 3],\n",
       "        [0, 1, 2]],\n",
       "\n",
       "       [[1, 2, 3],\n",
       "        [1, 2, 3]]])"
      ]
     },
     "execution_count": 547,
     "metadata": {},
     "output_type": "execute_result"
    }
   ],
   "source": [
    "np.array(list(itertools.product(c.simplices, c.simplices)))"
   ]
  },
  {
   "cell_type": "code",
   "execution_count": 548,
   "metadata": {
    "collapsed": false
   },
   "outputs": [
    {
     "data": {
      "text/plain": [
       "array([[[0. , 1. , 2. ],\n",
       "        [0.5, 1.5, 2.5]],\n",
       "\n",
       "       [[0.5, 1.5, 2.5],\n",
       "        [1. , 2. , 3. ]]])"
      ]
     },
     "execution_count": 548,
     "metadata": {},
     "output_type": "execute_result"
    }
   ],
   "source": [
    "np.subtract(c.simplices[:, None], -c.simplices[None, :])/2"
   ]
  },
  {
   "cell_type": "code",
   "execution_count": 549,
   "metadata": {
    "collapsed": false
   },
   "outputs": [
    {
     "data": {
      "text/plain": [
       "array([[[0, 1, 2],\n",
       "        [1, 2, 3]]])"
      ]
     },
     "execution_count": 549,
     "metadata": {},
     "output_type": "execute_result"
    }
   ],
   "source": [
    "c.simplices[None, :]"
   ]
  },
  {
   "cell_type": "code",
   "execution_count": 550,
   "metadata": {
    "collapsed": false
   },
   "outputs": [
    {
     "data": {
      "text/plain": [
       "array([[[ 0.,  0.],\n",
       "        [ 4., 10.],\n",
       "        [10.,  5.]],\n",
       "\n",
       "       [[ 4., 10.],\n",
       "        [ 0.,  0.],\n",
       "        [10.,  5.]],\n",
       "\n",
       "       [[10.,  5.],\n",
       "        [10.,  5.],\n",
       "        [ 0.,  0.]]])"
      ]
     },
     "execution_count": 550,
     "metadata": {},
     "output_type": "execute_result"
    }
   ],
   "source": [
    "ei_dot_ej"
   ]
  },
  {
   "cell_type": "code",
   "execution_count": 551,
   "metadata": {
    "collapsed": false
   },
   "outputs": [
    {
     "data": {
      "text/plain": [
       "(array([ 3,  4,  7, 10, 12, 14]),)"
      ]
     },
     "execution_count": 551,
     "metadata": {},
     "output_type": "execute_result"
    }
   ],
   "source": [
    "np.where((ei_dot_ej>5).flatten())"
   ]
  },
  {
   "cell_type": "code",
   "execution_count": 552,
   "metadata": {
    "collapsed": false
   },
   "outputs": [
    {
     "data": {
      "text/plain": [
       "array([[1, 2],\n",
       "       [1, 2],\n",
       "       [2, 2]])"
      ]
     },
     "execution_count": 552,
     "metadata": {},
     "output_type": "execute_result"
    }
   ],
   "source": [
    "np.sum(ei_dot_ej>delta**2, axis=1)"
   ]
  },
  {
   "cell_type": "code",
   "execution_count": 553,
   "metadata": {
    "collapsed": false
   },
   "outputs": [
    {
     "data": {
      "text/plain": [
       "array([4, 6])"
      ]
     },
     "execution_count": 553,
     "metadata": {},
     "output_type": "execute_result"
    }
   ],
   "source": [
    "np.sum(np.sum(ei_dot_ej>delta**2, axis=1), axis=0)"
   ]
  },
  {
   "cell_type": "code",
   "execution_count": 554,
   "metadata": {
    "collapsed": false
   },
   "outputs": [],
   "source": [
    "bad_simp_ind = np.where(np.sum(np.sum(ei_dot_ej>delta**2, axis=1), axis=0))[0]"
   ]
  },
  {
   "cell_type": "code",
   "execution_count": 555,
   "metadata": {
    "collapsed": false
   },
   "outputs": [
    {
     "data": {
      "text/plain": [
       "array([0, 1])"
      ]
     },
     "execution_count": 555,
     "metadata": {},
     "output_type": "execute_result"
    }
   ],
   "source": [
    "bad_simp_ind"
   ]
  },
  {
   "cell_type": "code",
   "execution_count": 556,
   "metadata": {
    "collapsed": false
   },
   "outputs": [
    {
     "name": "stdout",
     "output_type": "stream",
     "text": [
      "[[[0 1]\n",
      "  [0 2]\n",
      "  [1 2]]\n",
      "\n",
      " [[1 2]\n",
      "  [1 3]\n",
      "  [2 3]]]\n"
     ]
    }
   ],
   "source": [
    "edges = np.array([list(itertools.combinations(simp, 2)) for simp in c.simplices])\n",
    "print(edges)"
   ]
  },
  {
   "cell_type": "code",
   "execution_count": 565,
   "metadata": {
    "collapsed": false
   },
   "outputs": [
    {
     "name": "stdout",
     "output_type": "stream",
     "text": [
      "[[[ 0. -2.]\n",
      "  [-3. -1.]\n",
      "  [-3.  1.]]\n",
      "\n",
      " [[-3.  1.]\n",
      "  [-2. -1.]\n",
      "  [ 1. -2.]]]\n",
      "[[2.         3.16227766 3.16227766]\n",
      " [3.16227766 2.23606798 2.23606798]]\n"
     ]
    }
   ],
   "source": [
    "diff = c.points[edges[:,:,0]]-c.points[edges[:,:,1]]\n",
    "lengths = np.abs(np.sqrt(np.sum([diff[:,:,i]**2 for i in np.arange(diff.shape[2])], axis=0)))\n",
    "print(diff)\n",
    "print(lengths)"
   ]
  },
  {
   "cell_type": "code",
   "execution_count": 472,
   "metadata": {
    "collapsed": false
   },
   "outputs": [
    {
     "name": "stdout",
     "output_type": "stream",
     "text": [
      "(array([0, 0, 1]), array([1, 2, 0]))\n",
      "[0 1]\n"
     ]
    }
   ],
   "source": [
    "where = np.where(lengths>2.5)\n",
    "bad_simp_ind = np.unique(where[0])\n",
    "print(where)\n",
    "print(bad_simp_ind)"
   ]
  },
  {
   "cell_type": "code",
   "execution_count": 473,
   "metadata": {
    "collapsed": false
   },
   "outputs": [
    {
     "name": "stdout",
     "output_type": "stream",
     "text": [
      "[[0 2]\n",
      " [1 2]\n",
      " [1 2]]\n"
     ]
    }
   ],
   "source": [
    "bad_edges = edges[where]\n",
    "print(bad_edges)"
   ]
  },
  {
   "cell_type": "code",
   "execution_count": 474,
   "metadata": {
    "collapsed": false
   },
   "outputs": [
    {
     "name": "stdout",
     "output_type": "stream",
     "text": [
      "[5 8 8]\n"
     ]
    }
   ],
   "source": [
    "def cantor_pairing(a, b):\n",
    "   return (0.5*(a+b)*(a+b+1)+b).astype(int)\n",
    "\n",
    "edge_key = cantor_pairing(bad_edges[:,0], bad_edges[:,1])\n",
    "print(edge_key)"
   ]
  },
  {
   "cell_type": "code",
   "execution_count": 475,
   "metadata": {
    "collapsed": false
   },
   "outputs": [
    {
     "name": "stdout",
     "output_type": "stream",
     "text": [
      "[0 1]\n",
      "[[0 2]\n",
      " [1 2]]\n"
     ]
    }
   ],
   "source": [
    "uni_edge_key, unique_inds = np.unique(edge_key, return_index=True)\n",
    "uni_bad_edges = bad_edges[unique_inds]\n",
    "print(unique_inds)\n",
    "print(uni_bad_edges)"
   ]
  },
  {
   "cell_type": "code",
   "execution_count": 476,
   "metadata": {
    "collapsed": false
   },
   "outputs": [
    {
     "name": "stdout",
     "output_type": "stream",
     "text": [
      "[[ 1.5 -0.5]\n",
      " [ 1.5  0.5]]\n",
      "[[1.         0.        ]\n",
      " [1.66666667 1.        ]]\n"
     ]
    }
   ],
   "source": [
    "uni_edgepts = (c.points[uni_bad_edges[:, 0]] + c.points[uni_bad_edges[:, 1]])/2\n",
    "centres = (np.sum(c.points[c.simplices[bad_simp_ind]], axis=1))/c.simplices.shape[1]\n",
    "new_pnts = np.concatenate([uni_edgepts, centres])\n",
    "print(edgepts)\n",
    "print(centres)"
   ]
  },
  {
   "cell_type": "code",
   "execution_count": 477,
   "metadata": {
    "collapsed": false
   },
   "outputs": [
    {
     "name": "stdout",
     "output_type": "stream",
     "text": [
      "[4 5 5]\n",
      "[6 7]\n"
     ]
    }
   ],
   "source": [
    "edgepts_inds = np.array([np.where(uni_edge_key==i)[0][0] for i in edge_key]) + len(c.points)\n",
    "centrepts_inds = np.arange(len(centres)) + len(c.points) + len(uni_edgepts)\n",
    "print(edgepts_inds)\n",
    "print(centrepts_inds)"
   ]
  },
  {
   "cell_type": "code",
   "execution_count": 478,
   "metadata": {
    "collapsed": false
   },
   "outputs": [
    {
     "name": "stdout",
     "output_type": "stream",
     "text": [
      "(array([0, 0, 1]), array([1, 2, 0]))\n",
      "[[0 1 2]\n",
      " [1 2 3]]\n",
      "[4 5 5]\n",
      "[6 7]\n"
     ]
    }
   ],
   "source": [
    "print(where)\n",
    "print(c.simplices)\n",
    "print(edgepts_inds)\n",
    "print(centrepts_inds)"
   ]
  },
  {
   "cell_type": "code",
   "execution_count": 491,
   "metadata": {
    "collapsed": false
   },
   "outputs": [
    {
     "name": "stdout",
     "output_type": "stream",
     "text": [
      "[[0 4 6]\n",
      " [2 4 6]\n",
      " [1 5 6]\n",
      " [2 5 6]\n",
      " [0 1 6]\n",
      " [1 5 7]\n",
      " [2 5 7]\n",
      " [1 3 7]\n",
      " [2 3 7]]\n",
      "[[ 0.         -1.        ]\n",
      " [ 0.          1.        ]\n",
      " [ 3.          0.        ]\n",
      " [ 2.          2.        ]\n",
      " [ 1.5        -0.5       ]\n",
      " [ 1.5         0.5       ]\n",
      " [ 1.          0.        ]\n",
      " [ 1.66666667  1.        ]]\n"
     ]
    }
   ],
   "source": [
    "new_simplices = c.simplices\n",
    "for i, simp in enumerate(c.simplices):\n",
    "    cp = centrepts_inds[i]\n",
    "    edpt = edgepts_inds[where[0]==i]\n",
    "    bad_e = bad_edges[where[0]==i]\n",
    "\n",
    "    orig_e = np.array(list(itertools.combinations(simp, 2)))\n",
    "    good_e = orig_e[np.invert((orig_e[:,None] == bad_e).all(2).any(1))]\n",
    "\n",
    "    not_centre_es = np.array([list(itertools.combinations(np.concatenate([bad_e[i], [ep]]), 2)) for i, ep in enumerate(edpt)])\n",
    "    not_centre_es = not_centre_es.reshape(not_centre_es.shape[0]*not_centre_es.shape[1], 2)\n",
    "\n",
    "    A = np.concatenate([not_centre_es, orig_e])\n",
    "    not_centre_es = A[np.invert((A[:, None] == orig_e).all(2).any(1))]\n",
    "    not_centre_es = np.concatenate([not_centre_es, good_e])\n",
    "\n",
    "    cstack = np.array([[cp]]*len(not_centre_es))\n",
    "    new_simps = np.hstack([not_centre_es, cstack])\n",
    "    new_simplices = np.concatenate([new_simplices, new_simps])\n",
    "\n",
    "new_simplices = np.delete(new_simplices, bad_simp_ind, axis=0)\n",
    "new_points = np.concatenate([c.points, new_pnts])\n",
    "print(new_simplices)\n",
    "print(new_points)\n"
   ]
  },
  {
   "cell_type": "code",
   "execution_count": 486,
   "metadata": {
    "collapsed": false
   },
   "outputs": [
    {
     "data": {
      "text/plain": [
       "array([[0, 4, 6],\n",
       "       [2, 4, 6],\n",
       "       [1, 5, 6],\n",
       "       [2, 5, 6],\n",
       "       [0, 1, 6],\n",
       "       [1, 5, 7],\n",
       "       [2, 5, 7],\n",
       "       [1, 3, 7],\n",
       "       [2, 3, 7]])"
      ]
     },
     "execution_count": 486,
     "metadata": {},
     "output_type": "execute_result"
    }
   ],
   "source": []
  },
  {
   "cell_type": "code",
   "execution_count": 447,
   "metadata": {
    "collapsed": false
   },
   "outputs": [
    {
     "data": {
      "text/plain": [
       "array([array([[0, 4, 6],\n",
       "       [2, 4, 6],\n",
       "       [1, 5, 6],\n",
       "       [2, 5, 6],\n",
       "       [0, 1, 6]]),\n",
       "       array([[1, 5, 7],\n",
       "       [2, 5, 7],\n",
       "       [1, 3, 7],\n",
       "       [2, 3, 7]])], dtype=object)"
      ]
     },
     "execution_count": 447,
     "metadata": {},
     "output_type": "execute_result"
    }
   ],
   "source": [
    "new_simplices"
   ]
  },
  {
   "cell_type": "code",
   "execution_count": 443,
   "metadata": {
    "collapsed": false
   },
   "outputs": [
    {
     "name": "stdout",
     "output_type": "stream",
     "text": [
      "6\n",
      "[4 5]\n",
      "[[0 2]\n",
      " [1 2]]\n",
      "[[0 1]\n",
      " [0 2]\n",
      " [1 2]]\n",
      "[[0 1]]\n",
      "[[0 4]\n",
      " [2 4]\n",
      " [1 5]\n",
      " [2 5]\n",
      " [0 1]]\n",
      "[[0 4 6]\n",
      " [2 4 6]\n",
      " [1 5 6]\n",
      " [2 5 6]\n",
      " [0 1 6]]\n"
     ]
    }
   ],
   "source": [
    "cp = centrepts_inds[0]\n",
    "edpt = edgepts_inds[where[0]==0]\n",
    "bad_e = bad_edges[where[0]==0]\n",
    "\n",
    "orig_e = np.array(list(itertools.combinations(c.simplices[0], 2)))\n",
    "good_e = orig_e[np.invert((orig_e[:,None] == bad_e).all(2).any(1))]\n",
    "\n",
    "not_centre_es = np.array([list(itertools.combinations(np.concatenate([bad_e[i], [ep]]), 2)) for i, ep in enumerate(edpt)])\n",
    "not_centre_es = not_centre_es.reshape(not_centre_es.shape[0]*not_centre_es.shape[1], 2)\n",
    "\n",
    "A = np.concatenate([not_centre_es, orig_e])\n",
    "not_centre_es = A[np.invert((A[:, None] == orig_e).all(2).any(1))]\n",
    "not_centre_es = np.concatenate([not_centre_es, good_e])\n",
    "\n",
    "cstack = np.array([[cp]]*len(not_centre_es))\n",
    "new_simps = np.hstack([not_centre_es, cstack])\n",
    "\n",
    "print(cp)\n",
    "print(edpt)\n",
    "print(bad_e)\n",
    "print(orig_e)\n",
    "print(good_e)\n",
    "print(not_centre_es)\n",
    "print(new_simps)\n"
   ]
  },
  {
   "cell_type": "code",
   "execution_count": 438,
   "metadata": {
    "collapsed": false
   },
   "outputs": [
    {
     "data": {
      "text/plain": [
       "array([[6, 4, 6],\n",
       "       [6, 4, 6],\n",
       "       [6, 5, 6],\n",
       "       [6, 5, 6],\n",
       "       [6, 1, 6]])"
      ]
     },
     "execution_count": 438,
     "metadata": {},
     "output_type": "execute_result"
    }
   ],
   "source": [
    "np.hstack([not_centre_es, cstack])\n"
   ]
  },
  {
   "cell_type": "code",
   "execution_count": 435,
   "metadata": {
    "collapsed": false
   },
   "outputs": [
    {
     "data": {
      "text/plain": [
       "array([[6, 4],\n",
       "       [6, 4],\n",
       "       [6, 5],\n",
       "       [6, 5],\n",
       "       [6, 1]])"
      ]
     },
     "execution_count": 435,
     "metadata": {},
     "output_type": "execute_result"
    }
   ],
   "source": [
    "not_centre_es"
   ]
  },
  {
   "cell_type": "code",
   "execution_count": 409,
   "metadata": {
    "collapsed": false
   },
   "outputs": [
    {
     "data": {
      "text/plain": [
       "array([[[0, 2],\n",
       "        [0, 4],\n",
       "        [2, 4]],\n",
       "\n",
       "       [[1, 2],\n",
       "        [1, 5],\n",
       "        [2, 5]]])"
      ]
     },
     "execution_count": 409,
     "metadata": {},
     "output_type": "execute_result"
    }
   ],
   "source": [
    "not_centre_es"
   ]
  },
  {
   "cell_type": "code",
   "execution_count": 647,
   "metadata": {
    "collapsed": false
   },
   "outputs": [],
   "source": [
    "ndim = 3\n",
    "simp = np.array([0,1,2,3])\n",
    "bad_e = np.array([[0,1]])\n",
    "edpt = np.array([4])\n",
    "cp = 5\n",
    "\n",
    "orig_face = np.array(list(itertools.combinations(simp, ndim)))\n",
    "bad_face_loc = (np.sum(np.isin(orig_face, bad_e), axis=1) == 2)\n",
    "bad_face = orig_face[bad_face_loc]\n",
    "good_face = orig_face[np.invert(bad_face_loc)]\n",
    "\n",
    "not_centre_faces = np.array([list(itertools.combinations(np.concatenate([bad_face[i], [ep]]), ndim)) for i, ep in enumerate(edpt)])\n",
    "# not_centre_es = not_centre_es.reshape(not_centre_es.shape[0]*not_centre_es.shape[1], 2)\n",
    "\n",
    "# A = np.concatenate([not_centre_es, orig_e])\n",
    "# not_centre_es = A[np.invert((A[:, None] == orig_e).all(2).any(1))]\n",
    "# not_centre_es = np.concatenate([not_centre_es, good_e])\n",
    "\n",
    "# cstack = np.array([[cp]]*len(not_centre_es))\n",
    "# new_simps = np.hstack([not_centre_es, cstack])\n",
    "# new_simplices = np.concatenate([new_simplices, new_simps])"
   ]
  },
  {
   "cell_type": "code",
   "execution_count": 642,
   "metadata": {
    "collapsed": false
   },
   "outputs": [
    {
     "data": {
      "text/plain": [
       "array([[0, 1, 2],\n",
       "       [0, 1, 3],\n",
       "       [0, 2, 3],\n",
       "       [1, 2, 3]])"
      ]
     },
     "execution_count": 642,
     "metadata": {},
     "output_type": "execute_result"
    }
   ],
   "source": [
    "orig_face"
   ]
  },
  {
   "cell_type": "code",
   "execution_count": 643,
   "metadata": {
    "collapsed": false
   },
   "outputs": [
    {
     "data": {
      "text/plain": [
       "array([[0, 2, 3],\n",
       "       [1, 2, 3]])"
      ]
     },
     "execution_count": 643,
     "metadata": {},
     "output_type": "execute_result"
    }
   ],
   "source": [
    "good_face"
   ]
  },
  {
   "cell_type": "code",
   "execution_count": 644,
   "metadata": {
    "collapsed": false
   },
   "outputs": [
    {
     "data": {
      "text/plain": [
       "array([[0, 1, 2],\n",
       "       [0, 1, 3]])"
      ]
     },
     "execution_count": 644,
     "metadata": {},
     "output_type": "execute_result"
    }
   ],
   "source": [
    "bad_face"
   ]
  },
  {
   "cell_type": "code",
   "execution_count": 648,
   "metadata": {
    "collapsed": false
   },
   "outputs": [
    {
     "data": {
      "text/plain": [
       "array([[[0, 1, 2],\n",
       "        [0, 1, 4],\n",
       "        [0, 2, 4],\n",
       "        [1, 2, 4]]])"
      ]
     },
     "execution_count": 648,
     "metadata": {},
     "output_type": "execute_result"
    }
   ],
   "source": [
    "not_centre_faces"
   ]
  },
  {
   "cell_type": "markdown",
   "metadata": {},
   "source": [
    "# Another attempt"
   ]
  },
  {
   "cell_type": "code",
   "execution_count": 884,
   "metadata": {
    "collapsed": true
   },
   "outputs": [],
   "source": [
    "delta = 0.72\n",
    "points = np.array([[0., 0.],\n",
    "           [0., 1.],\n",
    "           [1., 1.],\n",
    "           [0.6,0.],\n",
    "           [0.7, 0.7],\n",
    "           [-0.001, 0.5]])\n",
    "simplices = np.array([[0,1,4], [1,2,4],[2,4,3],[0,4,3],[0,1,5]])"
   ]
  },
  {
   "cell_type": "code",
   "execution_count": 885,
   "metadata": {
    "collapsed": false
   },
   "outputs": [],
   "source": [
    "# construct edges from simplices and compute lengths\n",
    "edges = np.array([list(itertools.combinations(simp, 2)) for simp in simplices])\n",
    "diff = points[edges[:,:,0]] - points[edges[:,:,1]]\n",
    "if ndim==1:\n",
    "    lengths = np.abs(np.sqrt(diff**2))\n",
    "else:\n",
    "    lengths = np.abs(np.sqrt(np.sum([diff[:,:,i]**2 for i in np.arange(diff.shape[2])], axis=0)))\n",
    "\n",
    "# find edges that exceed delta\n",
    "where = np.where(lengths>delta)\n",
    "if len(where[0])>0:\n",
    "    all_bad_edges = edges[where]\n",
    "    all_edge_key = cantor_pairing(all_bad_edges[:,0], all_bad_edges[:,1]) # unique indetifier for each edge\n",
    "\n",
    "    # make it so there is only one edge per simplex, and remove secondary edges as flagged edges\n",
    "    bad_simp_ind, prim_edge_ind = np.unique(where[0], return_index=True)\n",
    "    dupl_edge_key = np.delete(all_edge_key, prim_edge_ind)\n",
    "    dupl_edge_ind = np.where(np.in1d(all_edge_key, dupl_edge_key))[0]\n",
    "\n",
    "    bad_simp_ind = np.delete(where[0], dupl_edge_ind)\n",
    "    bad_simps = simplices[bad_simp_ind]\n",
    "    bad_edges = np.delete(all_bad_edges, dupl_edge_ind, axis=0)\n",
    "    edge_key = np.delete(all_edge_key, dupl_edge_ind)\n",
    "\n",
    "    # create new points to add to simplices and also determine the index of these new points once added to self.points\n",
    "    uni_edge_key, unique_inds = np.unique(edge_key, return_index=True) # identify unique edges (as edges may be shared by simplices)\n",
    "    uni_bad_edges = bad_edges[unique_inds]\n",
    "\n",
    "    new_pnts = (points[uni_bad_edges[:, 0]] + points[uni_bad_edges[:, 1]])/2\n",
    "    newpnts_inds = np.array([np.where(uni_edge_key==i)[0][0] for i in edge_key]) + len(points)\n",
    "    \n",
    "    A = np.hstack([newpnts_inds[:, None], np.array([simp[np.where(simp != e0)] for simp, e0 in zip(bad_simps, bad_edges[:,0])])])\n",
    "    B = np.hstack([newpnts_inds[:, None], np.array([simp[np.where(simp != e0)] for simp, e0 in zip(bad_simps, bad_edges[:,1])])])\n",
    "    new_simps = np.concatenate([A,B])\n",
    "    \n",
    "    new_simps = np.concatenate([np.delete(simplices, bad_simp_ind, axis=0), new_simps])\n",
    "    new_pnts = np.concatenate([points, new_pnts])\n"
   ]
  },
  {
   "cell_type": "code",
   "execution_count": 828,
   "metadata": {
    "collapsed": false
   },
   "outputs": [
    {
     "data": {
      "text/plain": [
       "array([[1.        , 0.98994949, 0.76157731],\n",
       "       [1.        , 0.76157731, 0.42426407],\n",
       "       [0.42426407, 1.07703296, 0.70710678],\n",
       "       [0.98994949, 0.6       , 0.70710678],\n",
       "       [1.        , 0.500001  , 0.500001  ]])"
      ]
     },
     "execution_count": 828,
     "metadata": {},
     "output_type": "execute_result"
    }
   ],
   "source": [
    "lengths"
   ]
  },
  {
   "cell_type": "code",
   "execution_count": 829,
   "metadata": {
    "collapsed": false
   },
   "outputs": [
    {
     "data": {
      "text/plain": [
       "(array([0, 0, 0, 1, 1, 2, 3, 4]), array([0, 1, 2, 0, 1, 1, 0, 0]))"
      ]
     },
     "execution_count": 829,
     "metadata": {},
     "output_type": "execute_result"
    }
   ],
   "source": [
    "where"
   ]
  },
  {
   "cell_type": "code",
   "execution_count": 830,
   "metadata": {
    "collapsed": false
   },
   "outputs": [
    {
     "data": {
      "text/plain": [
       "array([[0, 1],\n",
       "       [0, 4],\n",
       "       [1, 4],\n",
       "       [1, 2],\n",
       "       [1, 4],\n",
       "       [2, 3],\n",
       "       [0, 4],\n",
       "       [0, 1]])"
      ]
     },
     "execution_count": 830,
     "metadata": {},
     "output_type": "execute_result"
    }
   ],
   "source": [
    "all_bad_edges"
   ]
  },
  {
   "cell_type": "code",
   "execution_count": 831,
   "metadata": {
    "collapsed": false
   },
   "outputs": [
    {
     "data": {
      "text/plain": [
       "array([ 2, 14, 19,  8, 19, 18, 14,  2])"
      ]
     },
     "execution_count": 831,
     "metadata": {},
     "output_type": "execute_result"
    }
   ],
   "source": [
    "all_edge_key"
   ]
  },
  {
   "cell_type": "code",
   "execution_count": 832,
   "metadata": {
    "collapsed": false
   },
   "outputs": [
    {
     "data": {
      "text/plain": [
       "array([0, 3, 5, 6, 7])"
      ]
     },
     "execution_count": 832,
     "metadata": {},
     "output_type": "execute_result"
    }
   ],
   "source": [
    "prim_edge_ind"
   ]
  },
  {
   "cell_type": "code",
   "execution_count": 833,
   "metadata": {
    "collapsed": false
   },
   "outputs": [
    {
     "data": {
      "text/plain": [
       "array([14, 19, 19])"
      ]
     },
     "execution_count": 833,
     "metadata": {},
     "output_type": "execute_result"
    }
   ],
   "source": [
    "dupl_edge_key"
   ]
  },
  {
   "cell_type": "code",
   "execution_count": 834,
   "metadata": {
    "collapsed": false
   },
   "outputs": [
    {
     "data": {
      "text/plain": [
       "array([1, 2, 4, 6])"
      ]
     },
     "execution_count": 834,
     "metadata": {},
     "output_type": "execute_result"
    }
   ],
   "source": [
    "dupl_edge_ind"
   ]
  },
  {
   "cell_type": "code",
   "execution_count": 835,
   "metadata": {
    "collapsed": false
   },
   "outputs": [
    {
     "data": {
      "text/plain": [
       "array([[0, 1, 4],\n",
       "       [1, 2, 4],\n",
       "       [2, 4, 3],\n",
       "       [0, 1, 5]])"
      ]
     },
     "execution_count": 835,
     "metadata": {},
     "output_type": "execute_result"
    }
   ],
   "source": [
    "bad_simps"
   ]
  },
  {
   "cell_type": "code",
   "execution_count": 836,
   "metadata": {
    "collapsed": false
   },
   "outputs": [
    {
     "data": {
      "text/plain": [
       "array([[0, 1],\n",
       "       [1, 2],\n",
       "       [2, 3],\n",
       "       [0, 1]])"
      ]
     },
     "execution_count": 836,
     "metadata": {},
     "output_type": "execute_result"
    }
   ],
   "source": [
    "bad_edges"
   ]
  },
  {
   "cell_type": "code",
   "execution_count": 837,
   "metadata": {
    "collapsed": false
   },
   "outputs": [
    {
     "data": {
      "text/plain": [
       "array([ 2,  8, 18,  2])"
      ]
     },
     "execution_count": 837,
     "metadata": {},
     "output_type": "execute_result"
    }
   ],
   "source": [
    "edge_key"
   ]
  },
  {
   "cell_type": "code",
   "execution_count": 838,
   "metadata": {
    "collapsed": false
   },
   "outputs": [
    {
     "data": {
      "text/plain": [
       "array([[0. , 0.5],\n",
       "       [0.5, 1. ],\n",
       "       [0.8, 0.5]])"
      ]
     },
     "execution_count": 838,
     "metadata": {},
     "output_type": "execute_result"
    }
   ],
   "source": [
    "new_pnts"
   ]
  },
  {
   "cell_type": "code",
   "execution_count": 839,
   "metadata": {
    "collapsed": false
   },
   "outputs": [
    {
     "data": {
      "text/plain": [
       "array([6, 7, 8, 6])"
      ]
     },
     "execution_count": 839,
     "metadata": {},
     "output_type": "execute_result"
    }
   ],
   "source": [
    "newpnts_inds"
   ]
  },
  {
   "cell_type": "code",
   "execution_count": 841,
   "metadata": {
    "collapsed": false
   },
   "outputs": [
    {
     "data": {
      "text/plain": [
       "array([[0, 1],\n",
       "       [1, 2],\n",
       "       [2, 3],\n",
       "       [0, 1]])"
      ]
     },
     "execution_count": 841,
     "metadata": {},
     "output_type": "execute_result"
    }
   ],
   "source": [
    "bad_edges"
   ]
  },
  {
   "cell_type": "code",
   "execution_count": 843,
   "metadata": {
    "collapsed": false
   },
   "outputs": [
    {
     "data": {
      "text/plain": [
       "array([[6],\n",
       "       [7],\n",
       "       [8],\n",
       "       [6]])"
      ]
     },
     "execution_count": 843,
     "metadata": {},
     "output_type": "execute_result"
    }
   ],
   "source": [
    "np.hstack(newpnts_inds[:, None]"
   ]
  },
  {
   "cell_type": "code",
   "execution_count": 863,
   "metadata": {
    "collapsed": false
   },
   "outputs": [
    {
     "data": {
      "text/plain": [
       "array([[0, 1],\n",
       "       [1, 2],\n",
       "       [2, 3],\n",
       "       [0, 1]])"
      ]
     },
     "execution_count": 863,
     "metadata": {},
     "output_type": "execute_result"
    }
   ],
   "source": [
    "bad_edges"
   ]
  },
  {
   "cell_type": "code",
   "execution_count": 847,
   "metadata": {
    "collapsed": false
   },
   "outputs": [
    {
     "data": {
      "text/plain": [
       "array([[0, 1, 4],\n",
       "       [1, 2, 4],\n",
       "       [2, 4, 3],\n",
       "       [0, 1, 5]])"
      ]
     },
     "execution_count": 847,
     "metadata": {},
     "output_type": "execute_result"
    }
   ],
   "source": [
    "bad_simps"
   ]
  },
  {
   "cell_type": "code",
   "execution_count": 864,
   "metadata": {
    "collapsed": false
   },
   "outputs": [],
   "source": [
    "A = np.hstack([newpnts_inds[:, None], np.array([simp[np.where(simp != e0)] for simp, e0 in zip(bad_simps, bad_edges[:,0])])])\n",
    "B = np.hstack([newpnts_inds[:, None], np.array([simp[np.where(simp != e0)] for simp, e0 in zip(bad_simps, bad_edges[:,1])])])\n",
    "new_simps = np.concatenate([A,B])\n"
   ]
  },
  {
   "cell_type": "code",
   "execution_count": 865,
   "metadata": {
    "collapsed": false
   },
   "outputs": [
    {
     "data": {
      "text/plain": [
       "array([[6, 1, 4],\n",
       "       [7, 2, 4],\n",
       "       [8, 4, 3],\n",
       "       [6, 1, 5],\n",
       "       [6, 0, 4],\n",
       "       [7, 1, 4],\n",
       "       [8, 2, 4],\n",
       "       [6, 0, 5]])"
      ]
     },
     "execution_count": 865,
     "metadata": {},
     "output_type": "execute_result"
    }
   ],
   "source": [
    "new_simps"
   ]
  },
  {
   "cell_type": "code",
   "execution_count": 862,
   "metadata": {
    "collapsed": false
   },
   "outputs": [
    {
     "data": {
      "text/plain": [
       "array([[6, 0, 4],\n",
       "       [7, 1, 4],\n",
       "       [8, 2, 4],\n",
       "       [6, 0, 5]])"
      ]
     },
     "execution_count": 862,
     "metadata": {},
     "output_type": "execute_result"
    }
   ],
   "source": [
    "B"
   ]
  },
  {
   "cell_type": "code",
   "execution_count": 867,
   "metadata": {
    "collapsed": false
   },
   "outputs": [
    {
     "data": {
      "text/plain": [
       "array([[0, 1, 4],\n",
       "       [1, 2, 4],\n",
       "       [2, 4, 3],\n",
       "       [0, 1, 5]])"
      ]
     },
     "execution_count": 867,
     "metadata": {},
     "output_type": "execute_result"
    }
   ],
   "source": [
    "bad_simps"
   ]
  },
  {
   "cell_type": "code",
   "execution_count": 881,
   "metadata": {
    "collapsed": false
   },
   "outputs": [
    {
     "data": {
      "text/plain": [
       "array([[6, 1, 4],\n",
       "       [7, 2, 4],\n",
       "       [8, 4, 3],\n",
       "       [6, 1, 5],\n",
       "       [6, 0, 4],\n",
       "       [7, 1, 4],\n",
       "       [8, 2, 4],\n",
       "       [6, 0, 5]])"
      ]
     },
     "execution_count": 881,
     "metadata": {},
     "output_type": "execute_result"
    }
   ],
   "source": [
    "np.concatenate([np.delete(simplices, [0,1,2,3,4], axis=0), new_simps])"
   ]
  },
  {
   "cell_type": "code",
   "execution_count": 886,
   "metadata": {
    "collapsed": false
   },
   "outputs": [
    {
     "data": {
      "text/plain": [
       "array([[ 0.   ,  0.   ],\n",
       "       [ 0.   ,  1.   ],\n",
       "       [ 1.   ,  1.   ],\n",
       "       [ 0.6  ,  0.   ],\n",
       "       [ 0.7  ,  0.7  ],\n",
       "       [-0.001,  0.5  ],\n",
       "       [ 0.   ,  0.5  ],\n",
       "       [ 0.5  ,  1.   ],\n",
       "       [ 0.8  ,  0.5  ]])"
      ]
     },
     "execution_count": 886,
     "metadata": {},
     "output_type": "execute_result"
    }
   ],
   "source": [
    "new_pnts"
   ]
  },
  {
   "cell_type": "code",
   "execution_count": 887,
   "metadata": {
    "collapsed": false
   },
   "outputs": [
    {
     "data": {
      "text/plain": [
       "array([[0, 4, 3],\n",
       "       [6, 1, 4],\n",
       "       [7, 2, 4],\n",
       "       [8, 4, 3],\n",
       "       [6, 1, 5],\n",
       "       [6, 0, 4],\n",
       "       [7, 1, 4],\n",
       "       [8, 2, 4],\n",
       "       [6, 0, 5]])"
      ]
     },
     "execution_count": 887,
     "metadata": {},
     "output_type": "execute_result"
    }
   ],
   "source": [
    "new_simps"
   ]
  },
  {
   "cell_type": "code",
   "execution_count": 888,
   "metadata": {
    "collapsed": false
   },
   "outputs": [
    {
     "data": {
      "text/plain": [
       "array([[0, 1],\n",
       "       [1, 2],\n",
       "       [2, 3],\n",
       "       [0, 1]])"
      ]
     },
     "execution_count": 888,
     "metadata": {},
     "output_type": "execute_result"
    }
   ],
   "source": [
    "bad_edges"
   ]
  },
  {
   "cell_type": "code",
   "execution_count": null,
   "metadata": {
    "collapsed": true
   },
   "outputs": [],
   "source": []
  },
  {
   "cell_type": "code",
   "execution_count": 889,
   "metadata": {
    "collapsed": false
   },
   "outputs": [
    {
     "data": {
      "text/plain": [
       "array([[ 0.   ,  0.   ],\n",
       "       [ 0.   ,  1.   ],\n",
       "       [ 1.   ,  1.   ],\n",
       "       [ 0.6  ,  0.   ],\n",
       "       [ 0.7  ,  0.7  ],\n",
       "       [-0.001,  0.5  ],\n",
       "       [ 0.   ,  0.5  ],\n",
       "       [ 0.5  ,  1.   ],\n",
       "       [ 0.8  ,  0.5  ]])"
      ]
     },
     "execution_count": 889,
     "metadata": {},
     "output_type": "execute_result"
    }
   ],
   "source": [
    "new_pnts"
   ]
  },
  {
   "cell_type": "code",
   "execution_count": 890,
   "metadata": {
    "collapsed": false
   },
   "outputs": [
    {
     "data": {
      "text/plain": [
       "array([[ 0.   ,  0.   ],\n",
       "       [ 0.   ,  1.   ],\n",
       "       [ 1.   ,  1.   ],\n",
       "       [ 0.6  ,  0.   ],\n",
       "       [ 0.7  ,  0.7  ],\n",
       "       [-0.001,  0.5  ]])"
      ]
     },
     "execution_count": 890,
     "metadata": {},
     "output_type": "execute_result"
    }
   ],
   "source": [
    "points"
   ]
  },
  {
   "cell_type": "code",
   "execution_count": null,
   "metadata": {
    "collapsed": true
   },
   "outputs": [],
   "source": []
  }
 ],
 "metadata": {
  "kernelspec": {
   "display_name": "Python 3",
   "language": "python",
   "name": "python3"
  },
  "language_info": {
   "codemirror_mode": {
    "name": "ipython",
    "version": 3
   },
   "file_extension": ".py",
   "mimetype": "text/x-python",
   "name": "python",
   "nbconvert_exporter": "python",
   "pygments_lexer": "ipython3",
   "version": "3.6.0"
  }
 },
 "nbformat": 4,
 "nbformat_minor": 2
}
