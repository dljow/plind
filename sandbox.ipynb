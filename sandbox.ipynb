{
 "cells": [
  {
   "cell_type": "code",
   "execution_count": 8,
   "metadata": {
    "collapsed": true
   },
   "outputs": [],
   "source": [
    "import numpy as np\n",
    "import quadpy"
   ]
  },
  {
   "cell_type": "code",
   "execution_count": 58,
   "metadata": {
    "collapsed": false
   },
   "outputs": [],
   "source": [
    "dim = 2\n",
    "scheme = quadpy.nsimplex.grundmann_moeller(dim, 3)\n",
    "\n",
    "simps = np.stack([ \n",
    "        [[0.0, 0.0],\n",
    "        [0.0, 1.0],\n",
    "        [1.0, 0.0]],\n",
    "    \n",
    "        [[1.0, 1.0],\n",
    "        [0.0, 1.0],\n",
    "        [1.0, 0.0]]\n",
    "        ], axis=-2)\n",
    "\n",
    "val = scheme.integrate(\n",
    "    lambda x: x[0]*x[0]+xp1[,\n",
    "    simps\n",
    "    )"
   ]
  },
  {
   "cell_type": "code",
   "execution_count": 59,
   "metadata": {
    "collapsed": false
   },
   "outputs": [
    {
     "data": {
      "text/plain": [
       "array([0.60350798, 0.60350798])"
      ]
     },
     "execution_count": 59,
     "metadata": {},
     "output_type": "execute_result"
    }
   ],
   "source": [
    "val"
   ]
  },
  {
   "cell_type": "code",
   "execution_count": 37,
   "metadata": {
    "collapsed": false
   },
   "outputs": [],
   "source": [
    "def transform(points, simplex):\n",
    "    \"\"\"Transform the points `xi` from the reference simplex onto `simplex`.\n",
    "    \"\"\"\n",
    "    # For n == 2:\n",
    "    # x = (\n",
    "    #     + outer(triangle[0].T, 1.0 - xi[0] - xi[1])\n",
    "    #     + outer(triangle[1].T, xi[0])\n",
    "    #     + outer(triangle[2].T, xi[1])\n",
    "    #     )\n",
    "    return numpy.dot(simplex, points)"
   ]
  },
  {
   "cell_type": "code",
   "execution_count": 42,
   "metadata": {
    "collapsed": false
   },
   "outputs": [],
   "source": [
    "scheme = quadpy.nsimplex.grundmann_moeller(dim, 3)\n",
    "\n",
    "f = lambda x: x[0]\n",
    "simplex = np.array([[0.0, 0.0],\n",
    "        [0.0, 1.0],\n",
    "        [1.0, 0.0]]) \n",
    "\n",
    "flt = numpy.vectorize(float)\n",
    "simplex = numpy.asarray(simplex)\n",
    "x = transform(flt(scheme.points).T, simplex.T)\n",
    "\n",
    "fx = numpy.asarray(f(x))"
   ]
  },
  {
   "cell_type": "code",
   "execution_count": 53,
   "metadata": {
    "collapsed": false
   },
   "outputs": [
    {
     "data": {
      "text/plain": [
       "array([0.11111111, 0.11111111, 0.33333333, 0.11111111, 0.33333333,\n",
       "       0.55555556, 0.11111111, 0.33333333, 0.55555556, 0.77777778,\n",
       "       0.14285714, 0.14285714, 0.42857143, 0.14285714, 0.42857143,\n",
       "       0.71428571, 0.2       , 0.2       , 0.6       , 0.33333333])"
      ]
     },
     "execution_count": 53,
     "metadata": {},
     "output_type": "execute_result"
    }
   ],
   "source": [
    "x[0]"
   ]
  },
  {
   "cell_type": "code",
   "execution_count": 49,
   "metadata": {
    "collapsed": false
   },
   "outputs": [
    {
     "data": {
      "text/plain": [
       "array([[0.11111111, 0.11111111, 0.33333333, 0.11111111, 0.33333333,\n",
       "        0.55555556, 0.11111111, 0.33333333, 0.55555556, 0.77777778,\n",
       "        0.14285714, 0.14285714, 0.42857143, 0.14285714, 0.42857143,\n",
       "        0.71428571, 0.2       , 0.2       , 0.6       , 0.33333333],\n",
       "       [0.11111111, 0.33333333, 0.11111111, 0.55555556, 0.33333333,\n",
       "        0.11111111, 0.77777778, 0.55555556, 0.33333333, 0.11111111,\n",
       "        0.14285714, 0.42857143, 0.14285714, 0.71428571, 0.42857143,\n",
       "        0.14285714, 0.2       , 0.6       , 0.2       , 0.33333333]])"
      ]
     },
     "execution_count": 49,
     "metadata": {},
     "output_type": "execute_result"
    }
   ],
   "source": [
    "np.dot(simplex.T, flt(scheme.points).T)"
   ]
  },
  {
   "cell_type": "code",
   "execution_count": 52,
   "metadata": {
    "collapsed": false
   },
   "outputs": [
    {
     "data": {
      "text/plain": [
       "array([[0., 0., 1.],\n",
       "       [0., 1., 0.]])"
      ]
     },
     "execution_count": 52,
     "metadata": {},
     "output_type": "execute_result"
    }
   ],
   "source": [
    "simplex.T"
   ]
  },
  {
   "cell_type": "code",
   "execution_count": null,
   "metadata": {
    "collapsed": true
   },
   "outputs": [],
   "source": []
  }
 ],
 "metadata": {
  "kernelspec": {
   "display_name": "Python 3",
   "language": "python",
   "name": "python3"
  },
  "language_info": {
   "codemirror_mode": {
    "name": "ipython",
    "version": 3
   },
   "file_extension": ".py",
   "mimetype": "text/x-python",
   "name": "python",
   "nbconvert_exporter": "python",
   "pygments_lexer": "ipython3",
   "version": "3.6.0"
  }
 },
 "nbformat": 4,
 "nbformat_minor": 2
}
