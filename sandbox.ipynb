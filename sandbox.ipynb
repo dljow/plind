{
 "cells": [
  {
   "cell_type": "code",
   "execution_count": 66,
   "metadata": {
    "collapsed": false
   },
   "outputs": [],
   "source": [
    "import numpy as np\n",
    "import quadpy\n",
    "from plind.contour_dict import equilateral_real"
   ]
  },
  {
   "cell_type": "code",
   "execution_count": 82,
   "metadata": {
    "collapsed": false
   },
   "outputs": [],
   "source": [
    "dim = 2\n",
    "scheme = quadpy.nsimplex.grundmann_moeller(dim, 3)\n",
    "\n",
    "simps = np.stack([ \n",
    "        [[0.0, 0.0],\n",
    "        [0.0, 1.0],\n",
    "        [1.0, 0.0]],\n",
    "    \n",
    "        [[1.0, 1.0],\n",
    "        [0.0, 1.0],\n",
    "        [1.0, 0.0]]\n",
    "        ], axis=-2)\n",
    "\n",
    "val = scheme.integrate(\n",
    "    lambda x: x[0]*x[0]+x[1]*x[1],\n",
    "    simps\n",
    "    )"
   ]
  },
  {
   "cell_type": "code",
   "execution_count": 83,
   "metadata": {
    "collapsed": false
   },
   "outputs": [
    {
     "data": {
      "text/plain": [
       "(3, 2, 2)"
      ]
     },
     "execution_count": 83,
     "metadata": {},
     "output_type": "execute_result"
    }
   ],
   "source": [
    "simps.shape"
   ]
  },
  {
   "cell_type": "code",
   "execution_count": 68,
   "metadata": {
    "collapsed": false
   },
   "outputs": [
    {
     "data": {
      "text/plain": [
       "0.6666666666666663"
      ]
     },
     "execution_count": 68,
     "metadata": {},
     "output_type": "execute_result"
    }
   ],
   "source": [
    "sum(val)"
   ]
  },
  {
   "cell_type": "code",
   "execution_count": 69,
   "metadata": {
    "collapsed": false
   },
   "outputs": [],
   "source": [
    "def transform(points, simplex):\n",
    "    \"\"\"Transform the points `xi` from the reference simplex onto `simplex`.\n",
    "    \"\"\"\n",
    "    # For n == 2:\n",
    "    # x = (\n",
    "    #     + outer(triangle[0].T, 1.0 - xi[0] - xi[1])\n",
    "    #     + outer(triangle[1].T, xi[0])\n",
    "    #     + outer(triangle[2].T, xi[1])\n",
    "    #     )\n",
    "    return numpy.dot(simplex, points)"
   ]
  },
  {
   "cell_type": "code",
   "execution_count": 70,
   "metadata": {
    "collapsed": false
   },
   "outputs": [],
   "source": [
    "scheme = quadpy.nsimplex.grundmann_moeller(dim, 3)\n",
    "\n",
    "f = lambda x: x[0]\n",
    "simplex = np.array([[0.0, 0.0],\n",
    "        [0.0, 1.0],\n",
    "        [1.0, 0.0]]) \n",
    "\n",
    "flt = numpy.vectorize(float)\n",
    "simplex = numpy.asarray(simplex)\n",
    "x = transform(flt(scheme.points).T, simplex.T)\n",
    "\n",
    "fx = numpy.asarray(f(x))"
   ]
  },
  {
   "cell_type": "code",
   "execution_count": 71,
   "metadata": {
    "collapsed": false
   },
   "outputs": [
    {
     "data": {
      "text/plain": [
       "array([0.11111111, 0.11111111, 0.33333333, 0.11111111, 0.33333333,\n",
       "       0.55555556, 0.11111111, 0.33333333, 0.55555556, 0.77777778,\n",
       "       0.14285714, 0.14285714, 0.42857143, 0.14285714, 0.42857143,\n",
       "       0.71428571, 0.2       , 0.2       , 0.6       , 0.33333333])"
      ]
     },
     "execution_count": 71,
     "metadata": {},
     "output_type": "execute_result"
    }
   ],
   "source": [
    "x[0]"
   ]
  },
  {
   "cell_type": "code",
   "execution_count": 72,
   "metadata": {
    "collapsed": false
   },
   "outputs": [
    {
     "data": {
      "text/plain": [
       "array([[0.11111111, 0.11111111, 0.33333333, 0.11111111, 0.33333333,\n",
       "        0.55555556, 0.11111111, 0.33333333, 0.55555556, 0.77777778,\n",
       "        0.14285714, 0.14285714, 0.42857143, 0.14285714, 0.42857143,\n",
       "        0.71428571, 0.2       , 0.2       , 0.6       , 0.33333333],\n",
       "       [0.11111111, 0.33333333, 0.11111111, 0.55555556, 0.33333333,\n",
       "        0.11111111, 0.77777778, 0.55555556, 0.33333333, 0.11111111,\n",
       "        0.14285714, 0.42857143, 0.14285714, 0.71428571, 0.42857143,\n",
       "        0.14285714, 0.2       , 0.6       , 0.2       , 0.33333333]])"
      ]
     },
     "execution_count": 72,
     "metadata": {},
     "output_type": "execute_result"
    }
   ],
   "source": [
    "np.dot(simplex.T, flt(scheme.points).T)"
   ]
  },
  {
   "cell_type": "code",
   "execution_count": 73,
   "metadata": {
    "collapsed": false
   },
   "outputs": [
    {
     "data": {
      "text/plain": [
       "array([[0., 0., 1.],\n",
       "       [0., 1., 0.]])"
      ]
     },
     "execution_count": 73,
     "metadata": {},
     "output_type": "execute_result"
    }
   ],
   "source": [
    "simplex.T"
   ]
  },
  {
   "cell_type": "code",
   "execution_count": 86,
   "metadata": {
    "collapsed": false
   },
   "outputs": [],
   "source": [
    "contour = equilateral_real(20, (-0.5,0.5,-0.5,0.5))"
   ]
  },
  {
   "cell_type": "code",
   "execution_count": 87,
   "metadata": {
    "collapsed": false
   },
   "outputs": [
    {
     "data": {
      "text/plain": [
       "array([[  0,   1,  20],\n",
       "       [ 20,  21,   1],\n",
       "       [  1,   2,  21],\n",
       "       ...,\n",
       "       [397, 398, 378],\n",
       "       [378, 379, 398],\n",
       "       [398, 399, 379]])"
      ]
     },
     "execution_count": 87,
     "metadata": {},
     "output_type": "execute_result"
    }
   ],
   "source": [
    "contour.simplices"
   ]
  },
  {
   "cell_type": "code",
   "execution_count": 88,
   "metadata": {
    "collapsed": false
   },
   "outputs": [],
   "source": [
    "simps = contour.points[contour.simplices]"
   ]
  },
  {
   "cell_type": "code",
   "execution_count": 91,
   "metadata": {
    "collapsed": false
   },
   "outputs": [],
   "source": [
    "simps = np.stack(simps, axis=-2)"
   ]
  },
  {
   "cell_type": "code",
   "execution_count": 92,
   "metadata": {
    "collapsed": false
   },
   "outputs": [],
   "source": [
    "val = scheme.integrate(\n",
    "    lambda x: x[0]/x[0],\n",
    "    simps\n",
    "    )"
   ]
  },
  {
   "cell_type": "code",
   "execution_count": 94,
   "metadata": {
    "collapsed": false
   },
   "outputs": [
    {
     "data": {
      "text/plain": [
       "0.9999999999999918"
      ]
     },
     "execution_count": 94,
     "metadata": {},
     "output_type": "execute_result"
    }
   ],
   "source": [
    "sum(val)"
   ]
  },
  {
   "cell_type": "code",
   "execution_count": 95,
   "metadata": {
    "collapsed": false
   },
   "outputs": [
    {
     "data": {
      "text/plain": [
       "2"
      ]
     },
     "execution_count": 95,
     "metadata": {},
     "output_type": "execute_result"
    }
   ],
   "source": [
    "contour.ndim"
   ]
  },
  {
   "cell_type": "code",
   "execution_count": null,
   "metadata": {
    "collapsed": true
   },
   "outputs": [],
   "source": []
  }
 ],
 "metadata": {
  "kernelspec": {
   "display_name": "Python 3",
   "language": "python",
   "name": "python3"
  },
  "language_info": {
   "codemirror_mode": {
    "name": "ipython",
    "version": 3
   },
   "file_extension": ".py",
   "mimetype": "text/x-python",
   "name": "python",
   "nbconvert_exporter": "python",
   "pygments_lexer": "ipython3",
   "version": "3.6.0"
  }
 },
 "nbformat": 4,
 "nbformat_minor": 2
}
