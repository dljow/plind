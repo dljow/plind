{
 "cells": [
  {
   "cell_type": "code",
   "execution_count": 65,
   "metadata": {
    "collapsed": false
   },
   "outputs": [
    {
     "ename": "IndentationError",
     "evalue": "unindent does not match any outer indentation level (core.py, line 25)",
     "output_type": "error",
     "traceback": [
      "Traceback \u001b[0;36m(most recent call last)\u001b[0m:\n",
      "  File \u001b[1;32m\"/Users/DylanJow/anaconda/lib/python3.6/site-packages/IPython/core/interactiveshell.py\"\u001b[0m, line \u001b[1;32m2910\u001b[0m, in \u001b[1;35mrun_code\u001b[0m\n    exec(code_obj, self.user_global_ns, self.user_ns)\n",
      "  File \u001b[1;32m\"<ipython-input-65-8b756f2efe57>\"\u001b[0m, line \u001b[1;32m3\u001b[0m, in \u001b[1;35m<module>\u001b[0m\n    from plind.contour_dict import equilateral_real\n",
      "  File \u001b[1;32m\"/Users/DylanJow/plind/plind/contour_dict/__init__.py\"\u001b[0m, line \u001b[1;32m1\u001b[0m, in \u001b[1;35m<module>\u001b[0m\n    from . import core\n",
      "  File \u001b[1;32m\"/Users/DylanJow/plind/plind/contour_dict/core.py\"\u001b[0m, line \u001b[1;32m2\u001b[0m, in \u001b[1;35m<module>\u001b[0m\n    import plind.contour as ctr\n",
      "\u001b[0;36m  File \u001b[0;32m\"/Users/DylanJow/plind/plind/contour/__init__.py\"\u001b[0;36m, line \u001b[0;32m1\u001b[0;36m, in \u001b[0;35m<module>\u001b[0;36m\u001b[0m\n\u001b[0;31m    from . import core\u001b[0m\n",
      "\u001b[0;36m  File \u001b[0;32m\"/Users/DylanJow/plind/plind/contour/core.py\"\u001b[0;36m, line \u001b[0;32m25\u001b[0m\n\u001b[0;31m    def __init__(self, points=np.array([]), edges=np.array([[]]), simplices=np.array([[]])):\u001b[0m\n\u001b[0m                                                                                            ^\u001b[0m\n\u001b[0;31mIndentationError\u001b[0m\u001b[0;31m:\u001b[0m unindent does not match any outer indentation level\n"
     ]
    }
   ],
   "source": [
    "import numpy as np\n",
    "import quadpy\n",
    "from plind.contour_dict import equilateral_real"
   ]
  },
  {
   "cell_type": "code",
   "execution_count": 60,
   "metadata": {
    "collapsed": false
   },
   "outputs": [],
   "source": [
    "dim = 2\n",
    "scheme = quadpy.nsimplex.grundmann_moeller(dim, 3)\n",
    "\n",
    "simps = np.stack([ \n",
    "        [[0.0, 0.0],\n",
    "        [0.0, 1.0],\n",
    "        [1.0, 0.0]],\n",
    "    \n",
    "        [[1.0, 1.0],\n",
    "        [0.0, 1.0],\n",
    "        [1.0, 0.0]]\n",
    "        ], axis=-2)\n",
    "\n",
    "val = scheme.integrate(\n",
    "    lambda x: x[0]*x[0]+x[1]*x[1],\n",
    "    simps\n",
    "    )"
   ]
  },
  {
   "cell_type": "code",
   "execution_count": 62,
   "metadata": {
    "collapsed": false
   },
   "outputs": [
    {
     "data": {
      "text/plain": [
       "0.6666666666666663"
      ]
     },
     "execution_count": 62,
     "metadata": {},
     "output_type": "execute_result"
    }
   ],
   "source": [
    "sum(val)"
   ]
  },
  {
   "cell_type": "code",
   "execution_count": 37,
   "metadata": {
    "collapsed": false
   },
   "outputs": [],
   "source": [
    "def transform(points, simplex):\n",
    "    \"\"\"Transform the points `xi` from the reference simplex onto `simplex`.\n",
    "    \"\"\"\n",
    "    # For n == 2:\n",
    "    # x = (\n",
    "    #     + outer(triangle[0].T, 1.0 - xi[0] - xi[1])\n",
    "    #     + outer(triangle[1].T, xi[0])\n",
    "    #     + outer(triangle[2].T, xi[1])\n",
    "    #     )\n",
    "    return numpy.dot(simplex, points)"
   ]
  },
  {
   "cell_type": "code",
   "execution_count": 42,
   "metadata": {
    "collapsed": false
   },
   "outputs": [],
   "source": [
    "scheme = quadpy.nsimplex.grundmann_moeller(dim, 3)\n",
    "\n",
    "f = lambda x: x[0]\n",
    "simplex = np.array([[0.0, 0.0],\n",
    "        [0.0, 1.0],\n",
    "        [1.0, 0.0]]) \n",
    "\n",
    "flt = numpy.vectorize(float)\n",
    "simplex = numpy.asarray(simplex)\n",
    "x = transform(flt(scheme.points).T, simplex.T)\n",
    "\n",
    "fx = numpy.asarray(f(x))"
   ]
  },
  {
   "cell_type": "code",
   "execution_count": 53,
   "metadata": {
    "collapsed": false
   },
   "outputs": [
    {
     "data": {
      "text/plain": [
       "array([0.11111111, 0.11111111, 0.33333333, 0.11111111, 0.33333333,\n",
       "       0.55555556, 0.11111111, 0.33333333, 0.55555556, 0.77777778,\n",
       "       0.14285714, 0.14285714, 0.42857143, 0.14285714, 0.42857143,\n",
       "       0.71428571, 0.2       , 0.2       , 0.6       , 0.33333333])"
      ]
     },
     "execution_count": 53,
     "metadata": {},
     "output_type": "execute_result"
    }
   ],
   "source": [
    "x[0]"
   ]
  },
  {
   "cell_type": "code",
   "execution_count": 49,
   "metadata": {
    "collapsed": false
   },
   "outputs": [
    {
     "data": {
      "text/plain": [
       "array([[0.11111111, 0.11111111, 0.33333333, 0.11111111, 0.33333333,\n",
       "        0.55555556, 0.11111111, 0.33333333, 0.55555556, 0.77777778,\n",
       "        0.14285714, 0.14285714, 0.42857143, 0.14285714, 0.42857143,\n",
       "        0.71428571, 0.2       , 0.2       , 0.6       , 0.33333333],\n",
       "       [0.11111111, 0.33333333, 0.11111111, 0.55555556, 0.33333333,\n",
       "        0.11111111, 0.77777778, 0.55555556, 0.33333333, 0.11111111,\n",
       "        0.14285714, 0.42857143, 0.14285714, 0.71428571, 0.42857143,\n",
       "        0.14285714, 0.2       , 0.6       , 0.2       , 0.33333333]])"
      ]
     },
     "execution_count": 49,
     "metadata": {},
     "output_type": "execute_result"
    }
   ],
   "source": [
    "np.dot(simplex.T, flt(scheme.points).T)"
   ]
  },
  {
   "cell_type": "code",
   "execution_count": 52,
   "metadata": {
    "collapsed": false
   },
   "outputs": [
    {
     "data": {
      "text/plain": [
       "array([[0., 0., 1.],\n",
       "       [0., 1., 0.]])"
      ]
     },
     "execution_count": 52,
     "metadata": {},
     "output_type": "execute_result"
    }
   ],
   "source": [
    "simplex.T"
   ]
  },
  {
   "cell_type": "code",
   "execution_count": 64,
   "metadata": {
    "collapsed": false
   },
   "outputs": [
    {
     "ename": "NameError",
     "evalue": "name 'equilateral_real' is not defined",
     "output_type": "error",
     "traceback": [
      "\u001b[0;31m---------------------------------------------------------------------------\u001b[0m",
      "\u001b[0;31mNameError\u001b[0m                                 Traceback (most recent call last)",
      "\u001b[0;32m<ipython-input-64-d1339d99bf7f>\u001b[0m in \u001b[0;36m<module>\u001b[0;34m()\u001b[0m\n\u001b[0;32m----> 1\u001b[0;31m \u001b[0mcontour\u001b[0m \u001b[0;34m=\u001b[0m \u001b[0mequilateral_real\u001b[0m\u001b[0;34m(\u001b[0m\u001b[0;36m20\u001b[0m\u001b[0;34m,\u001b[0m \u001b[0;34m(\u001b[0m\u001b[0;34m-\u001b[0m\u001b[0;36m0.5\u001b[0m\u001b[0;34m,\u001b[0m\u001b[0;36m0.5\u001b[0m\u001b[0;34m,\u001b[0m\u001b[0;34m-\u001b[0m\u001b[0;36m0.5\u001b[0m\u001b[0;34m,\u001b[0m\u001b[0;36m0.5\u001b[0m\u001b[0;34m)\u001b[0m\u001b[0;34m)\u001b[0m\u001b[0;34m\u001b[0m\u001b[0m\n\u001b[0m",
      "\u001b[0;31mNameError\u001b[0m: name 'equilateral_real' is not defined"
     ]
    }
   ],
   "source": [
    "contour = equilateral_real(20, (-0.5,0.5,-0.5,0.5))"
   ]
  },
  {
   "cell_type": "code",
   "execution_count": null,
   "metadata": {
    "collapsed": true
   },
   "outputs": [],
   "source": []
  }
 ],
 "metadata": {
  "kernelspec": {
   "display_name": "Python 3",
   "language": "python",
   "name": "python3"
  },
  "language_info": {
   "codemirror_mode": {
    "name": "ipython",
    "version": 3
   },
   "file_extension": ".py",
   "mimetype": "text/x-python",
   "name": "python",
   "nbconvert_exporter": "python",
   "pygments_lexer": "ipython3",
   "version": "3.6.0"
  }
 },
 "nbformat": 4,
 "nbformat_minor": 2
}
