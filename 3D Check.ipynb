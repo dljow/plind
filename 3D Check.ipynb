{
 "cells": [
  {
   "cell_type": "code",
   "execution_count": 2,
   "metadata": {
    "collapsed": false
   },
   "outputs": [
    {
     "name": "stderr",
     "output_type": "stream",
     "text": [
      "/Users/DylanJow/anaconda/lib/python3.6/site-packages/numba/core/errors.py:149: UserWarning: Insufficiently recent colorama version found. Numba requires colorama >= 0.3.9\n",
      "  warnings.warn(msg)\n"
     ]
    }
   ],
   "source": [
    "import numpy as np\n",
    "from plind.plmodel import plmodel\n",
    "from plind.contour_dict import realcontour_nd\n",
    "import matplotlib.pyplot as plt\n",
    "import matplotlib.tri as mtri\n",
    "\n",
    "%load_ext autoreload\n",
    "%autoreload 2"
   ]
  },
  {
   "cell_type": "code",
   "execution_count": 3,
   "metadata": {
    "collapsed": true
   },
   "outputs": [],
   "source": [
    "def Gaussexp(z, lamb):\n",
    "    return 1j*lamb*np.dot(z,z)\n",
    "\n",
    "def gradh(z, lamb):\n",
    "    return 2*1j*lamb*np.conj(z)\n"
   ]
  },
  {
   "cell_type": "code",
   "execution_count": 4,
   "metadata": {
    "collapsed": false
   },
   "outputs": [],
   "source": [
    "# init model\n",
    "lamb = 1\n",
    "delta = 0.8\n",
    "Nstep = 100\n",
    "dt_init = 1e-2\n",
    "thresh = -10\n",
    "tmax = dt_init*Nstep\n",
    "\n",
    "contour = realcontour_nd(5, (-0.5,0.5,-0.5,0.5,-0.5,0.5,-0.5,0.5))\n",
    "\n",
    "plind = plmodel(contour, Gaussexp, grad=gradh, expargs=[lamb])"
   ]
  },
  {
   "cell_type": "code",
   "execution_count": 5,
   "metadata": {
    "collapsed": false
   },
   "outputs": [
    {
     "name": "stdout",
     "output_type": "stream",
     "text": [
      "total steps: 2 current time: 0.12955646290767\n"
     ]
    },
    {
     "name": "stderr",
     "output_type": "stream",
     "text": [
      "/Users/DylanJow/plind/plind/descend/core.py:40: RuntimeWarning: divide by zero encountered in true_divide\n",
      "  delta = np.min((np.divide(tol,2*R))**(1/4))\n"
     ]
    }
   ],
   "source": [
    "plind.descend(delta, thresh, dt_init*1.01, dt_init)"
   ]
  },
  {
   "cell_type": "code",
   "execution_count": null,
   "metadata": {
    "collapsed": false
   },
   "outputs": [
    {
     "name": "stderr",
     "output_type": "stream",
     "text": [
      "/Users/DylanJow/plind/plind/descend/core.py:40: RuntimeWarning: divide by zero encountered in true_divide\n",
      "  delta = np.min((np.divide(tol,2*R))**(1/4))\n"
     ]
    }
   ],
   "source": [
    "%%time\n",
    "plind.descend(delta, thresh, tmax, dt_init)"
   ]
  },
  {
   "cell_type": "code",
   "execution_count": 5,
   "metadata": {
    "collapsed": false
   },
   "outputs": [],
   "source": [
    "plind.contour.refine_edges(delta/5)"
   ]
  },
  {
   "cell_type": "code",
   "execution_count": 6,
   "metadata": {
    "collapsed": false
   },
   "outputs": [
    {
     "name": "stdout",
     "output_type": "stream",
     "text": [
      "(29.539973162049765-0.042353414104643244j)\n"
     ]
    }
   ],
   "source": [
    "plind.integrate()\n",
    "print(plind.integral*57)"
   ]
  },
  {
   "cell_type": "code",
   "execution_count": 7,
   "metadata": {
    "collapsed": false
   },
   "outputs": [
    {
     "data": {
      "text/plain": [
       "9.869604401089358"
      ]
     },
     "execution_count": 7,
     "metadata": {},
     "output_type": "execute_result"
    }
   ],
   "source": [
    "(np.pi)**2"
   ]
  },
  {
   "cell_type": "code",
   "execution_count": null,
   "metadata": {
    "collapsed": true
   },
   "outputs": [],
   "source": []
  }
 ],
 "metadata": {
  "kernelspec": {
   "display_name": "Python 3",
   "language": "python",
   "name": "python3"
  },
  "language_info": {
   "codemirror_mode": {
    "name": "ipython",
    "version": 3
   },
   "file_extension": ".py",
   "mimetype": "text/x-python",
   "name": "python",
   "nbconvert_exporter": "python",
   "pygments_lexer": "ipython3",
   "version": "3.6.0"
  }
 },
 "nbformat": 4,
 "nbformat_minor": 2
}
