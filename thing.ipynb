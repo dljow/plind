{
 "cells": [
  {
   "cell_type": "code",
   "execution_count": 1,
   "metadata": {
    "collapsed": false
   },
   "outputs": [],
   "source": [
    "import numpy as np\n",
    "from scipy.spatial import Delaunay\n",
    "import matplotlib.pyplot as plt\n",
    "from itertools import combinations\n",
    "import itertools\n",
    "import plind.contour_dict as cdict\n",
    "import plind.contour as ctr"
   ]
  },
  {
   "cell_type": "code",
   "execution_count": 2,
   "metadata": {
    "collapsed": true
   },
   "outputs": [],
   "source": [
    "ndim = 2\n",
    "domain = (-1, 1, -1, 1)\n",
    "Nx = 2\n",
    "Ny = 2"
   ]
  },
  {
   "cell_type": "code",
   "execution_count": 3,
   "metadata": {
    "collapsed": false
   },
   "outputs": [],
   "source": [
    "x, y = np.meshgrid(np.linspace(-1, 1, Nx), np.linspace(-1, 1, Ny))\n",
    "points = (x+1j*y).flatten()\n",
    "points_tuple = np.dstack((x.flatten(), y.flatten()))[0]"
   ]
  },
  {
   "cell_type": "code",
   "execution_count": 4,
   "metadata": {
    "collapsed": false
   },
   "outputs": [],
   "source": [
    "tri = Delaunay(points_tuple)"
   ]
  },
  {
   "cell_type": "code",
   "execution_count": 5,
   "metadata": {
    "collapsed": false
   },
   "outputs": [],
   "source": [
    "edges = np.array(list(combinations(tri.simplices[0], 2)))\n",
    "for i, simp in enumerate(tri.simplices):\n",
    "    if i != 0:\n",
    "        for new_edge in np.array(list(combinations(simp, 2))):\n",
    "            if not any (np.isin(edges, new_edge).sum(axis=-1) == 2):\n",
    "                edges = np.append(edges, [new_edge], axis=0)"
   ]
  },
  {
   "cell_type": "code",
   "execution_count": 6,
   "metadata": {
    "collapsed": false
   },
   "outputs": [
    {
     "data": {
      "text/plain": [
       "array([[3, 2],\n",
       "       [3, 0],\n",
       "       [2, 0],\n",
       "       [1, 3],\n",
       "       [1, 0]], dtype=int32)"
      ]
     },
     "execution_count": 6,
     "metadata": {},
     "output_type": "execute_result"
    }
   ],
   "source": [
    "edges"
   ]
  },
  {
   "cell_type": "code",
   "execution_count": 7,
   "metadata": {
    "collapsed": false
   },
   "outputs": [
    {
     "data": {
      "text/plain": [
       "array([[3, 2, 0],\n",
       "       [1, 3, 0]], dtype=int32)"
      ]
     },
     "execution_count": 7,
     "metadata": {},
     "output_type": "execute_result"
    }
   ],
   "source": [
    "tri.simplices"
   ]
  },
  {
   "cell_type": "code",
   "execution_count": 8,
   "metadata": {
    "collapsed": false
   },
   "outputs": [
    {
     "data": {
      "image/png": "[encoded data removed]",
      "text/plain": [
       "<matplotlib.figure.Figure at 0x114cb6a20>"
      ]
     },
     "metadata": {},
     "output_type": "display_data"
    }
   ],
   "source": [
    "plt.figure()\n",
    "plt.triplot(points_tuple[:,0], points_tuple[:,1], tri.simplices.copy())\n",
    "plt.show()"
   ]
  },
  {
   "cell_type": "code",
   "execution_count": 14,
   "metadata": {
    "collapsed": false
   },
   "outputs": [],
   "source": [
    "contour = cdict.realcontour_nd(2, (-1,1,-1,1,-1,1))"
   ]
  },
  {
   "cell_type": "code",
   "execution_count": 16,
   "metadata": {
    "collapsed": false
   },
   "outputs": [
    {
     "data": {
      "text/plain": [
       "array([[5, 4, 2, 0],\n",
       "       [5, 1, 2, 0],\n",
       "       [5, 6, 4, 2],\n",
       "       [5, 6, 7, 2],\n",
       "       [5, 3, 1, 2],\n",
       "       [5, 3, 7, 2]], dtype=int32)"
      ]
     },
     "execution_count": 16,
     "metadata": {},
     "output_type": "execute_result"
    }
   ],
   "source": [
    "contour.simplices"
   ]
  },
  {
   "cell_type": "code",
   "execution_count": 17,
   "metadata": {
    "collapsed": false
   },
   "outputs": [
    {
     "data": {
      "text/plain": [
       "array([[5, 4],\n",
       "       [5, 2],\n",
       "       [5, 0],\n",
       "       [4, 2],\n",
       "       [4, 0],\n",
       "       [2, 0],\n",
       "       [5, 1],\n",
       "       [1, 2],\n",
       "       [1, 0],\n",
       "       [5, 6],\n",
       "       [6, 4],\n",
       "       [6, 2],\n",
       "       [5, 7],\n",
       "       [6, 7],\n",
       "       [7, 2],\n",
       "       [5, 3],\n",
       "       [3, 1],\n",
       "       [3, 2],\n",
       "       [3, 7]], dtype=int32)"
      ]
     },
     "execution_count": 17,
     "metadata": {},
     "output_type": "execute_result"
    }
   ],
   "source": [
    "contour.edges"
   ]
  },
  {
   "cell_type": "code",
   "execution_count": null,
   "metadata": {
    "collapsed": true
   },
   "outputs": [],
   "source": []
  }
 ],
 "metadata": {
  "kernelspec": {
   "display_name": "Python 3",
   "language": "python",
   "name": "python3"
  },
  "language_info": {
   "codemirror_mode": {
    "name": "ipython",
    "version": 3
   },
   "file_extension": ".py",
   "mimetype": "text/x-python",
   "name": "python",
   "nbconvert_exporter": "python",
   "pygments_lexer": "ipython3",
   "version": "3.6.0"
  }
 },
 "nbformat": 4,
 "nbformat_minor": 2
}
